{
 "cells": [
  {
   "cell_type": "markdown",
   "id": "7c8a4037",
   "metadata": {},
   "source": [
    "#### Import Library"
   ]
  },
  {
   "cell_type": "code",
   "execution_count": 1,
   "id": "653c582e",
   "metadata": {},
   "outputs": [],
   "source": [
    "import pandas as pd\n",
    "import numpy as np\n",
    "import matplotlib.pyplot as plt\n",
    "import pymysql\n",
    "import datetime"
   ]
  },
  {
   "cell_type": "markdown",
   "id": "7a736f67",
   "metadata": {},
   "source": [
    "#### Import Dataset from Database SQL"
   ]
  },
  {
   "cell_type": "code",
   "execution_count": 2,
   "id": "58faa01b",
   "metadata": {},
   "outputs": [],
   "source": [
    "db = pymysql.connect(host='localhost', user='root', password='', charset='utf8', db='db_forecasting')\n",
    "cursor = db.cursor()"
   ]
  },
  {
   "cell_type": "code",
   "execution_count": 3,
   "id": "9b2d23d3",
   "metadata": {},
   "outputs": [],
   "source": [
    "query = \"SELECT * FROM tb_production;\"\n",
    "df = pd.read_sql(query, db)"
   ]
  },
  {
   "cell_type": "code",
   "execution_count": 4,
   "id": "7908531f",
   "metadata": {},
   "outputs": [
    {
     "data": {
      "text/html": [
       "<div>\n",
       "<style scoped>\n",
       "    .dataframe tbody tr th:only-of-type {\n",
       "        vertical-align: middle;\n",
       "    }\n",
       "\n",
       "    .dataframe tbody tr th {\n",
       "        vertical-align: top;\n",
       "    }\n",
       "\n",
       "    .dataframe thead th {\n",
       "        text-align: right;\n",
       "    }\n",
       "</style>\n",
       "<table border=\"1\" class=\"dataframe\">\n",
       "  <thead>\n",
       "    <tr style=\"text-align: right;\">\n",
       "      <th></th>\n",
       "      <th>id</th>\n",
       "      <th>created_at</th>\n",
       "      <th>production</th>\n",
       "    </tr>\n",
       "  </thead>\n",
       "  <tbody>\n",
       "    <tr>\n",
       "      <th>0</th>\n",
       "      <td>1</td>\n",
       "      <td>1962-01-01</td>\n",
       "      <td>589</td>\n",
       "    </tr>\n",
       "    <tr>\n",
       "      <th>1</th>\n",
       "      <td>2</td>\n",
       "      <td>1962-02-01</td>\n",
       "      <td>561</td>\n",
       "    </tr>\n",
       "    <tr>\n",
       "      <th>2</th>\n",
       "      <td>3</td>\n",
       "      <td>1962-03-01</td>\n",
       "      <td>640</td>\n",
       "    </tr>\n",
       "    <tr>\n",
       "      <th>3</th>\n",
       "      <td>4</td>\n",
       "      <td>1962-04-01</td>\n",
       "      <td>656</td>\n",
       "    </tr>\n",
       "    <tr>\n",
       "      <th>4</th>\n",
       "      <td>5</td>\n",
       "      <td>1962-05-01</td>\n",
       "      <td>727</td>\n",
       "    </tr>\n",
       "  </tbody>\n",
       "</table>\n",
       "</div>"
      ],
      "text/plain": [
       "   id created_at  production\n",
       "0   1 1962-01-01         589\n",
       "1   2 1962-02-01         561\n",
       "2   3 1962-03-01         640\n",
       "3   4 1962-04-01         656\n",
       "4   5 1962-05-01         727"
      ]
     },
     "execution_count": 4,
     "metadata": {},
     "output_type": "execute_result"
    }
   ],
   "source": [
    "df.head()"
   ]
  },
  {
   "cell_type": "code",
   "execution_count": 5,
   "id": "64971be8",
   "metadata": {},
   "outputs": [],
   "source": [
    "df.columns=[\"id\",\"Date\",\"Production\"]"
   ]
  },
  {
   "cell_type": "code",
   "execution_count": 6,
   "id": "ab5063ac",
   "metadata": {},
   "outputs": [],
   "source": [
    "df = df[['Date','Production']]"
   ]
  },
  {
   "cell_type": "code",
   "execution_count": 7,
   "id": "f7e968a9",
   "metadata": {},
   "outputs": [
    {
     "data": {
      "text/html": [
       "<div>\n",
       "<style scoped>\n",
       "    .dataframe tbody tr th:only-of-type {\n",
       "        vertical-align: middle;\n",
       "    }\n",
       "\n",
       "    .dataframe tbody tr th {\n",
       "        vertical-align: top;\n",
       "    }\n",
       "\n",
       "    .dataframe thead th {\n",
       "        text-align: right;\n",
       "    }\n",
       "</style>\n",
       "<table border=\"1\" class=\"dataframe\">\n",
       "  <thead>\n",
       "    <tr style=\"text-align: right;\">\n",
       "      <th></th>\n",
       "      <th>Date</th>\n",
       "      <th>Production</th>\n",
       "    </tr>\n",
       "  </thead>\n",
       "  <tbody>\n",
       "    <tr>\n",
       "      <th>0</th>\n",
       "      <td>1962-01-01</td>\n",
       "      <td>589</td>\n",
       "    </tr>\n",
       "    <tr>\n",
       "      <th>1</th>\n",
       "      <td>1962-02-01</td>\n",
       "      <td>561</td>\n",
       "    </tr>\n",
       "    <tr>\n",
       "      <th>2</th>\n",
       "      <td>1962-03-01</td>\n",
       "      <td>640</td>\n",
       "    </tr>\n",
       "    <tr>\n",
       "      <th>3</th>\n",
       "      <td>1962-04-01</td>\n",
       "      <td>656</td>\n",
       "    </tr>\n",
       "    <tr>\n",
       "      <th>4</th>\n",
       "      <td>1962-05-01</td>\n",
       "      <td>727</td>\n",
       "    </tr>\n",
       "  </tbody>\n",
       "</table>\n",
       "</div>"
      ],
      "text/plain": [
       "        Date  Production\n",
       "0 1962-01-01         589\n",
       "1 1962-02-01         561\n",
       "2 1962-03-01         640\n",
       "3 1962-04-01         656\n",
       "4 1962-05-01         727"
      ]
     },
     "execution_count": 7,
     "metadata": {},
     "output_type": "execute_result"
    }
   ],
   "source": [
    "df.head()"
   ]
  },
  {
   "cell_type": "code",
   "execution_count": 8,
   "id": "f452c9f5",
   "metadata": {},
   "outputs": [],
   "source": [
    "df.set_index('Date',inplace=True)"
   ]
  },
  {
   "cell_type": "code",
   "execution_count": 9,
   "id": "8fafb358",
   "metadata": {},
   "outputs": [
    {
     "data": {
      "text/html": [
       "<div>\n",
       "<style scoped>\n",
       "    .dataframe tbody tr th:only-of-type {\n",
       "        vertical-align: middle;\n",
       "    }\n",
       "\n",
       "    .dataframe tbody tr th {\n",
       "        vertical-align: top;\n",
       "    }\n",
       "\n",
       "    .dataframe thead th {\n",
       "        text-align: right;\n",
       "    }\n",
       "</style>\n",
       "<table border=\"1\" class=\"dataframe\">\n",
       "  <thead>\n",
       "    <tr style=\"text-align: right;\">\n",
       "      <th></th>\n",
       "      <th>Production</th>\n",
       "    </tr>\n",
       "    <tr>\n",
       "      <th>Date</th>\n",
       "      <th></th>\n",
       "    </tr>\n",
       "  </thead>\n",
       "  <tbody>\n",
       "    <tr>\n",
       "      <th>1962-01-01</th>\n",
       "      <td>589</td>\n",
       "    </tr>\n",
       "    <tr>\n",
       "      <th>1962-02-01</th>\n",
       "      <td>561</td>\n",
       "    </tr>\n",
       "    <tr>\n",
       "      <th>1962-03-01</th>\n",
       "      <td>640</td>\n",
       "    </tr>\n",
       "    <tr>\n",
       "      <th>1962-04-01</th>\n",
       "      <td>656</td>\n",
       "    </tr>\n",
       "    <tr>\n",
       "      <th>1962-05-01</th>\n",
       "      <td>727</td>\n",
       "    </tr>\n",
       "  </tbody>\n",
       "</table>\n",
       "</div>"
      ],
      "text/plain": [
       "            Production\n",
       "Date                  \n",
       "1962-01-01         589\n",
       "1962-02-01         561\n",
       "1962-03-01         640\n",
       "1962-04-01         656\n",
       "1962-05-01         727"
      ]
     },
     "execution_count": 9,
     "metadata": {},
     "output_type": "execute_result"
    }
   ],
   "source": [
    "df.head()"
   ]
  },
  {
   "cell_type": "markdown",
   "id": "cc510a80",
   "metadata": {},
   "source": [
    "#### Plot of The Data, Purpose to Look Distribution of The Data"
   ]
  },
  {
   "cell_type": "code",
   "execution_count": 10,
   "id": "2426aeb0",
   "metadata": {},
   "outputs": [
    {
     "data": {
      "text/plain": [
       "<AxesSubplot:xlabel='Date'>"
      ]
     },
     "execution_count": 10,
     "metadata": {},
     "output_type": "execute_result"
    },
    {
     "data": {
      "image/png": "[encoded data removed]",
      "text/plain": [
       "<Figure size 864x432 with 1 Axes>"
      ]
     },
     "metadata": {
      "needs_background": "light"
     },
     "output_type": "display_data"
    }
   ],
   "source": [
    "df.plot(figsize=(12,6))"
   ]
  },
  {
   "cell_type": "markdown",
   "id": "c23420bc",
   "metadata": {},
   "source": [
    "#### Import Decompose Library, Purpose to Look Detail Distribution of The Data"
   ]
  },
  {
   "cell_type": "code",
   "execution_count": 11,
   "id": "109f2b31",
   "metadata": {},
   "outputs": [],
   "source": [
    "from statsmodels.tsa.seasonal import seasonal_decompose"
   ]
  },
  {
   "cell_type": "code",
   "execution_count": 12,
   "id": "9bbd06a1",
   "metadata": {},
   "outputs": [
    {
     "data": {
      "image/png": "[encoded data removed]",
      "text/plain": [
       "<Figure size 432x288 with 4 Axes>"
      ]
     },
     "metadata": {
      "needs_background": "light"
     },
     "output_type": "display_data"
    }
   ],
   "source": [
    "results = seasonal_decompose(df['Production'])\n",
    "results.plot();"
   ]
  },
  {
   "cell_type": "markdown",
   "id": "9f3b7192",
   "metadata": {},
   "source": [
    "#### Look length of The Data"
   ]
  },
  {
   "cell_type": "code",
   "execution_count": 13,
   "id": "2abd20ef",
   "metadata": {},
   "outputs": [
    {
     "data": {
      "text/plain": [
       "168"
      ]
     },
     "execution_count": 13,
     "metadata": {},
     "output_type": "execute_result"
    }
   ],
   "source": [
    "len(df)"
   ]
  },
  {
   "cell_type": "markdown",
   "id": "44a5ac84",
   "metadata": {},
   "source": [
    "#### Split Data Between Train Data and Test Data, with 12 Last Data as a Test Data"
   ]
  },
  {
   "cell_type": "code",
   "execution_count": 14,
   "id": "a672595a",
   "metadata": {},
   "outputs": [],
   "source": [
    "train = df.iloc[:156]\n",
    "test = df.iloc[156:]"
   ]
  },
  {
   "cell_type": "markdown",
   "id": "09956124",
   "metadata": {},
   "source": [
    "#### Import Scaler Library, Purpose to Create Scaler from '0' to '1' for Value of The Data"
   ]
  },
  {
   "cell_type": "code",
   "execution_count": 15,
   "id": "e18a1a04",
   "metadata": {},
   "outputs": [],
   "source": [
    "from sklearn.preprocessing import MinMaxScaler\n",
    "scaler = MinMaxScaler()"
   ]
  },
  {
   "cell_type": "code",
   "execution_count": 16,
   "id": "41f6ae1a",
   "metadata": {},
   "outputs": [
    {
     "data": {
      "text/html": [
       "<div>\n",
       "<style scoped>\n",
       "    .dataframe tbody tr th:only-of-type {\n",
       "        vertical-align: middle;\n",
       "    }\n",
       "\n",
       "    .dataframe tbody tr th {\n",
       "        vertical-align: top;\n",
       "    }\n",
       "\n",
       "    .dataframe thead th {\n",
       "        text-align: right;\n",
       "    }\n",
       "</style>\n",
       "<table border=\"1\" class=\"dataframe\">\n",
       "  <thead>\n",
       "    <tr style=\"text-align: right;\">\n",
       "      <th></th>\n",
       "      <th>Production</th>\n",
       "    </tr>\n",
       "    <tr>\n",
       "      <th>Date</th>\n",
       "      <th></th>\n",
       "    </tr>\n",
       "  </thead>\n",
       "  <tbody>\n",
       "    <tr>\n",
       "      <th>1962-01-01</th>\n",
       "      <td>589</td>\n",
       "    </tr>\n",
       "    <tr>\n",
       "      <th>1962-02-01</th>\n",
       "      <td>561</td>\n",
       "    </tr>\n",
       "    <tr>\n",
       "      <th>1962-03-01</th>\n",
       "      <td>640</td>\n",
       "    </tr>\n",
       "    <tr>\n",
       "      <th>1962-04-01</th>\n",
       "      <td>656</td>\n",
       "    </tr>\n",
       "    <tr>\n",
       "      <th>1962-05-01</th>\n",
       "      <td>727</td>\n",
       "    </tr>\n",
       "  </tbody>\n",
       "</table>\n",
       "</div>"
      ],
      "text/plain": [
       "            Production\n",
       "Date                  \n",
       "1962-01-01         589\n",
       "1962-02-01         561\n",
       "1962-03-01         640\n",
       "1962-04-01         656\n",
       "1962-05-01         727"
      ]
     },
     "execution_count": 16,
     "metadata": {},
     "output_type": "execute_result"
    }
   ],
   "source": [
    "df.head()"
   ]
  },
  {
   "cell_type": "code",
   "execution_count": 17,
   "id": "7b317d97",
   "metadata": {},
   "outputs": [
    {
     "data": {
      "text/html": [
       "<div>\n",
       "<style scoped>\n",
       "    .dataframe tbody tr th:only-of-type {\n",
       "        vertical-align: middle;\n",
       "    }\n",
       "\n",
       "    .dataframe tbody tr th {\n",
       "        vertical-align: top;\n",
       "    }\n",
       "\n",
       "    .dataframe thead th {\n",
       "        text-align: right;\n",
       "    }\n",
       "</style>\n",
       "<table border=\"1\" class=\"dataframe\">\n",
       "  <thead>\n",
       "    <tr style=\"text-align: right;\">\n",
       "      <th></th>\n",
       "      <th>Production</th>\n",
       "    </tr>\n",
       "    <tr>\n",
       "      <th>Date</th>\n",
       "      <th></th>\n",
       "    </tr>\n",
       "  </thead>\n",
       "  <tbody>\n",
       "    <tr>\n",
       "      <th>1975-08-01</th>\n",
       "      <td>858</td>\n",
       "    </tr>\n",
       "    <tr>\n",
       "      <th>1975-09-01</th>\n",
       "      <td>817</td>\n",
       "    </tr>\n",
       "    <tr>\n",
       "      <th>1975-10-01</th>\n",
       "      <td>827</td>\n",
       "    </tr>\n",
       "    <tr>\n",
       "      <th>1975-11-01</th>\n",
       "      <td>797</td>\n",
       "    </tr>\n",
       "    <tr>\n",
       "      <th>1975-12-01</th>\n",
       "      <td>843</td>\n",
       "    </tr>\n",
       "  </tbody>\n",
       "</table>\n",
       "</div>"
      ],
      "text/plain": [
       "            Production\n",
       "Date                  \n",
       "1975-08-01         858\n",
       "1975-09-01         817\n",
       "1975-10-01         827\n",
       "1975-11-01         797\n",
       "1975-12-01         843"
      ]
     },
     "execution_count": 17,
     "metadata": {},
     "output_type": "execute_result"
    }
   ],
   "source": [
    "df.tail()"
   ]
  },
  {
   "cell_type": "markdown",
   "id": "199c89e7",
   "metadata": {},
   "source": [
    "#### Change Value with Scaler from '0' to '1'"
   ]
  },
  {
   "cell_type": "code",
   "execution_count": 18,
   "id": "59633cb9",
   "metadata": {},
   "outputs": [],
   "source": [
    "scaler.fit(train)\n",
    "scaled_train = scaler.transform(train)\n",
    "scaled_test = scaler.transform(test)"
   ]
  },
  {
   "cell_type": "code",
   "execution_count": 19,
   "id": "b65cc463",
   "metadata": {},
   "outputs": [
    {
     "data": {
      "text/plain": [
       "array([[0.08653846],\n",
       "       [0.01923077],\n",
       "       [0.20913462],\n",
       "       [0.24759615],\n",
       "       [0.41826923],\n",
       "       [0.34615385],\n",
       "       [0.20913462],\n",
       "       [0.11057692],\n",
       "       [0.03605769],\n",
       "       [0.05769231]])"
      ]
     },
     "execution_count": 19,
     "metadata": {},
     "output_type": "execute_result"
    }
   ],
   "source": [
    "scaled_train[:10]"
   ]
  },
  {
   "cell_type": "markdown",
   "id": "32352a3f",
   "metadata": {},
   "source": [
    "#### Import Library TimeSeries Generator"
   ]
  },
  {
   "cell_type": "code",
   "execution_count": 20,
   "id": "c10fa09f",
   "metadata": {},
   "outputs": [],
   "source": [
    "from keras.preprocessing.sequence import TimeseriesGenerator"
   ]
  },
  {
   "cell_type": "markdown",
   "id": "4b54fd36",
   "metadata": {},
   "source": [
    "#### Define Generator"
   ]
  },
  {
   "cell_type": "code",
   "execution_count": 21,
   "id": "81ae7d0a",
   "metadata": {},
   "outputs": [],
   "source": [
    "n_input = 3\n",
    "n_features = 1\n",
    "generator = TimeseriesGenerator(scaled_train, scaled_train, length=n_input, batch_size=1)"
   ]
  },
  {
   "cell_type": "code",
   "execution_count": 22,
   "id": "cbdb3bed",
   "metadata": {},
   "outputs": [
    {
     "name": "stdout",
     "output_type": "stream",
     "text": [
      "Given the Array: \n",
      "[0.08653846 0.01923077 0.20913462]\n",
      "Predict this y: \n",
      " [[0.24759615]]\n"
     ]
    }
   ],
   "source": [
    "X,y = generator[0]\n",
    "print(f'Given the Array: \\n{X.flatten()}')\n",
    "print(f'Predict this y: \\n {y}')"
   ]
  },
  {
   "cell_type": "code",
   "execution_count": 23,
   "id": "b34d0167",
   "metadata": {},
   "outputs": [
    {
     "data": {
      "text/plain": [
       "(1, 3, 1)"
      ]
     },
     "execution_count": 23,
     "metadata": {},
     "output_type": "execute_result"
    }
   ],
   "source": [
    "X.shape"
   ]
  },
  {
   "cell_type": "markdown",
   "id": "e796012d",
   "metadata": {},
   "source": [
    "#### We Do Same Thing, But Now Instead for 12 Months"
   ]
  },
  {
   "cell_type": "code",
   "execution_count": 24,
   "id": "b30df065",
   "metadata": {},
   "outputs": [],
   "source": [
    "n_input = 12\n",
    "generator = TimeseriesGenerator(scaled_train, scaled_train, length=n_input, batch_size=1)"
   ]
  },
  {
   "cell_type": "code",
   "execution_count": 25,
   "id": "c9b8c2fd",
   "metadata": {},
   "outputs": [
    {
     "data": {
      "text/plain": [
       "(1, 3, 1)"
      ]
     },
     "execution_count": 25,
     "metadata": {},
     "output_type": "execute_result"
    }
   ],
   "source": [
    "X.shape"
   ]
  },
  {
   "cell_type": "markdown",
   "id": "28b69be6",
   "metadata": {},
   "source": [
    "#### Import Library LSTM"
   ]
  },
  {
   "cell_type": "code",
   "execution_count": 26,
   "id": "b49a3e21",
   "metadata": {},
   "outputs": [],
   "source": [
    "from keras.models import Sequential\n",
    "from keras.layers import Dense\n",
    "from keras.layers import LSTM"
   ]
  },
  {
   "cell_type": "code",
   "execution_count": 27,
   "id": "b52a4c9c",
   "metadata": {},
   "outputs": [],
   "source": [
    "model = Sequential()\n",
    "model.add(LSTM(100, activation='relu', input_shape=(n_input, n_features)))\n",
    "model.add(Dense(1))\n",
    "model.compile(optimizer='adam', loss='mse')"
   ]
  },
  {
   "cell_type": "markdown",
   "id": "4789b0d7",
   "metadata": {},
   "source": [
    "#### Summary of Model"
   ]
  },
  {
   "cell_type": "code",
   "execution_count": 28,
   "id": "dfae5e57",
   "metadata": {},
   "outputs": [
    {
     "name": "stdout",
     "output_type": "stream",
     "text": [
      "Model: \"sequential\"\n",
      "_________________________________________________________________\n",
      "Layer (type)                 Output Shape              Param #   \n",
      "=================================================================\n",
      "lstm (LSTM)                  (None, 100)               40800     \n",
      "_________________________________________________________________\n",
      "dense (Dense)                (None, 1)                 101       \n",
      "=================================================================\n",
      "Total params: 40,901\n",
      "Trainable params: 40,901\n",
      "Non-trainable params: 0\n",
      "_________________________________________________________________\n"
     ]
    }
   ],
   "source": [
    "model.summary()"
   ]
  },
  {
   "cell_type": "markdown",
   "id": "2ab78c71",
   "metadata": {},
   "source": [
    "#### Fitting Model with Generator"
   ]
  },
  {
   "cell_type": "code",
   "execution_count": 29,
   "id": "915b42cb",
   "metadata": {},
   "outputs": [
    {
     "name": "stdout",
     "output_type": "stream",
     "text": [
      "Epoch 1/100\n",
      "144/144 [==============================] - 2s 4ms/step - loss: 0.0459\n",
      "Epoch 2/100\n",
      "144/144 [==============================] - 1s 4ms/step - loss: 0.0243\n",
      "Epoch 3/100\n",
      "144/144 [==============================] - 1s 4ms/step - loss: 0.0189\n",
      "Epoch 4/100\n",
      "144/144 [==============================] - 1s 5ms/step - loss: 0.0183\n",
      "Epoch 5/100\n",
      "144/144 [==============================] - 1s 4ms/step - loss: 0.0096\n",
      "Epoch 6/100\n",
      "144/144 [==============================] - 1s 4ms/step - loss: 0.0091\n",
      "Epoch 7/100\n",
      "144/144 [==============================] - 1s 4ms/step - loss: 0.0052\n",
      "Epoch 8/100\n",
      "144/144 [==============================] - 1s 4ms/step - loss: 0.0046\n",
      "Epoch 9/100\n",
      "144/144 [==============================] - 1s 4ms/step - loss: 0.0068\n",
      "Epoch 10/100\n",
      "144/144 [==============================] - 1s 5ms/step - loss: 0.0042\n",
      "Epoch 11/100\n",
      "144/144 [==============================] - 1s 5ms/step - loss: 0.0062\n",
      "Epoch 12/100\n",
      "144/144 [==============================] - 1s 4ms/step - loss: 0.0035\n",
      "Epoch 13/100\n",
      "144/144 [==============================] - 1s 4ms/step - loss: 0.0049\n",
      "Epoch 14/100\n",
      "144/144 [==============================] - 1s 5ms/step - loss: 0.0035\n",
      "Epoch 15/100\n",
      "144/144 [==============================] - 1s 4ms/step - loss: 0.0035\n",
      "Epoch 16/100\n",
      "144/144 [==============================] - 1s 4ms/step - loss: 0.0036\n",
      "Epoch 17/100\n",
      "144/144 [==============================] - 1s 4ms/step - loss: 0.0034\n",
      "Epoch 18/100\n",
      "144/144 [==============================] - 1s 4ms/step - loss: 0.0032\n",
      "Epoch 19/100\n",
      "144/144 [==============================] - 1s 4ms/step - loss: 0.0035\n",
      "Epoch 20/100\n",
      "144/144 [==============================] - 1s 5ms/step - loss: 0.0032\n",
      "Epoch 21/100\n",
      "144/144 [==============================] - 1s 5ms/step - loss: 0.0032\n",
      "Epoch 22/100\n",
      "144/144 [==============================] - 1s 5ms/step - loss: 0.0031\n",
      "Epoch 23/100\n",
      "144/144 [==============================] - 1s 6ms/step - loss: 0.0037\n",
      "Epoch 24/100\n",
      "144/144 [==============================] - 1s 6ms/step - loss: 0.0042\n",
      "Epoch 25/100\n",
      "144/144 [==============================] - 1s 5ms/step - loss: 0.0035\n",
      "Epoch 26/100\n",
      "144/144 [==============================] - 1s 4ms/step - loss: 0.0031\n",
      "Epoch 27/100\n",
      "144/144 [==============================] - 1s 4ms/step - loss: 0.0030\n",
      "Epoch 28/100\n",
      "144/144 [==============================] - 1s 4ms/step - loss: 0.0041\n",
      "Epoch 29/100\n",
      "144/144 [==============================] - 1s 5ms/step - loss: 0.0026\n",
      "Epoch 30/100\n",
      "144/144 [==============================] - 1s 4ms/step - loss: 0.0037\n",
      "Epoch 31/100\n",
      "144/144 [==============================] - 1s 4ms/step - loss: 0.0028\n",
      "Epoch 32/100\n",
      "144/144 [==============================] - 1s 5ms/step - loss: 0.0059\n",
      "Epoch 33/100\n",
      "144/144 [==============================] - 1s 4ms/step - loss: 0.0029\n",
      "Epoch 34/100\n",
      "144/144 [==============================] - 1s 4ms/step - loss: 0.0024\n",
      "Epoch 35/100\n",
      "144/144 [==============================] - 1s 5ms/step - loss: 0.0029\n",
      "Epoch 36/100\n",
      "144/144 [==============================] - 1s 4ms/step - loss: 0.0024\n",
      "Epoch 37/100\n",
      "144/144 [==============================] - 1s 4ms/step - loss: 0.0026\n",
      "Epoch 38/100\n",
      "144/144 [==============================] - 1s 4ms/step - loss: 0.0023\n",
      "Epoch 39/100\n",
      "144/144 [==============================] - 1s 4ms/step - loss: 0.0025\n",
      "Epoch 40/100\n",
      "144/144 [==============================] - 1s 4ms/step - loss: 0.0029\n",
      "Epoch 41/100\n",
      "144/144 [==============================] - 1s 4ms/step - loss: 0.0027\n",
      "Epoch 42/100\n",
      "144/144 [==============================] - 1s 4ms/step - loss: 0.0023\n",
      "Epoch 43/100\n",
      "144/144 [==============================] - 1s 5ms/step - loss: 0.0021\n",
      "Epoch 44/100\n",
      "144/144 [==============================] - 1s 5ms/step - loss: 0.0025\n",
      "Epoch 45/100\n",
      "144/144 [==============================] - 1s 5ms/step - loss: 0.0025\n",
      "Epoch 46/100\n",
      "144/144 [==============================] - 1s 4ms/step - loss: 0.0029\n",
      "Epoch 47/100\n",
      "144/144 [==============================] - 1s 5ms/step - loss: 0.0026\n",
      "Epoch 48/100\n",
      "144/144 [==============================] - 1s 5ms/step - loss: 0.0023\n",
      "Epoch 49/100\n",
      "144/144 [==============================] - 1s 4ms/step - loss: 0.0028\n",
      "Epoch 50/100\n",
      "144/144 [==============================] - 1s 5ms/step - loss: 0.0025\n",
      "Epoch 51/100\n",
      "144/144 [==============================] - 1s 4ms/step - loss: 0.0029\n",
      "Epoch 52/100\n",
      "144/144 [==============================] - 1s 5ms/step - loss: 0.0021\n",
      "Epoch 53/100\n",
      "144/144 [==============================] - 1s 5ms/step - loss: 0.0023\n",
      "Epoch 54/100\n",
      "144/144 [==============================] - 1s 5ms/step - loss: 0.0023\n",
      "Epoch 55/100\n",
      "144/144 [==============================] - 1s 5ms/step - loss: 0.0022\n",
      "Epoch 56/100\n",
      "144/144 [==============================] - 1s 4ms/step - loss: 0.0019\n",
      "Epoch 57/100\n",
      "144/144 [==============================] - 1s 4ms/step - loss: 0.0022\n",
      "Epoch 58/100\n",
      "144/144 [==============================] - 1s 4ms/step - loss: 0.0023\n",
      "Epoch 59/100\n",
      "144/144 [==============================] - 1s 4ms/step - loss: 0.0020\n",
      "Epoch 60/100\n",
      "144/144 [==============================] - 1s 5ms/step - loss: 0.0022\n",
      "Epoch 61/100\n",
      "144/144 [==============================] - 1s 4ms/step - loss: 0.0020\n",
      "Epoch 62/100\n",
      "144/144 [==============================] - 1s 4ms/step - loss: 0.0022\n",
      "Epoch 63/100\n",
      "144/144 [==============================] - 1s 4ms/step - loss: 0.0026\n",
      "Epoch 64/100\n",
      "144/144 [==============================] - 1s 5ms/step - loss: 0.0021\n",
      "Epoch 65/100\n",
      "144/144 [==============================] - 1s 4ms/step - loss: 0.0020\n",
      "Epoch 66/100\n",
      "144/144 [==============================] - 1s 5ms/step - loss: 0.0022\n",
      "Epoch 67/100\n",
      "144/144 [==============================] - 1s 4ms/step - loss: 0.0018\n",
      "Epoch 68/100\n",
      "144/144 [==============================] - 1s 4ms/step - loss: 0.0019\n",
      "Epoch 69/100\n",
      "144/144 [==============================] - 1s 4ms/step - loss: 0.0017\n",
      "Epoch 70/100\n",
      "144/144 [==============================] - 1s 4ms/step - loss: 0.0020\n",
      "Epoch 71/100\n",
      "144/144 [==============================] - 1s 4ms/step - loss: 0.0019\n",
      "Epoch 72/100\n",
      "144/144 [==============================] - 1s 4ms/step - loss: 0.0021\n",
      "Epoch 73/100\n",
      "144/144 [==============================] - 1s 4ms/step - loss: 0.0018\n",
      "Epoch 74/100\n",
      "144/144 [==============================] - 1s 4ms/step - loss: 0.0017\n",
      "Epoch 75/100\n",
      "144/144 [==============================] - 1s 4ms/step - loss: 0.0021\n",
      "Epoch 76/100\n",
      "144/144 [==============================] - 1s 4ms/step - loss: 0.0019\n",
      "Epoch 77/100\n",
      "144/144 [==============================] - 1s 4ms/step - loss: 0.0018\n",
      "Epoch 78/100\n",
      "144/144 [==============================] - 1s 4ms/step - loss: 0.0017\n",
      "Epoch 79/100\n",
      "144/144 [==============================] - 1s 4ms/step - loss: 0.0017\n",
      "Epoch 80/100\n",
      "144/144 [==============================] - 1s 4ms/step - loss: 0.0017\n",
      "Epoch 81/100\n",
      "144/144 [==============================] - 1s 4ms/step - loss: 0.0019\n",
      "Epoch 82/100\n",
      "144/144 [==============================] - 1s 4ms/step - loss: 0.0017\n",
      "Epoch 83/100\n",
      "144/144 [==============================] - 1s 4ms/step - loss: 0.0016\n",
      "Epoch 84/100\n",
      "144/144 [==============================] - 1s 4ms/step - loss: 0.0018\n",
      "Epoch 85/100\n",
      "144/144 [==============================] - 1s 4ms/step - loss: 0.0016\n",
      "Epoch 86/100\n",
      "144/144 [==============================] - 1s 4ms/step - loss: 0.0020\n",
      "Epoch 87/100\n",
      "144/144 [==============================] - 1s 4ms/step - loss: 0.0019\n",
      "Epoch 88/100\n",
      "144/144 [==============================] - 1s 4ms/step - loss: 0.0017\n",
      "Epoch 89/100\n",
      "144/144 [==============================] - 1s 4ms/step - loss: 0.0018\n",
      "Epoch 90/100\n",
      "144/144 [==============================] - 1s 4ms/step - loss: 0.0016\n",
      "Epoch 91/100\n",
      "144/144 [==============================] - 1s 4ms/step - loss: 0.0017\n",
      "Epoch 92/100\n",
      "144/144 [==============================] - 1s 4ms/step - loss: 0.0021\n",
      "Epoch 93/100\n",
      "144/144 [==============================] - 1s 4ms/step - loss: 0.0015\n",
      "Epoch 94/100\n",
      "144/144 [==============================] - 1s 4ms/step - loss: 0.0018\n",
      "Epoch 95/100\n",
      "144/144 [==============================] - 1s 4ms/step - loss: 0.0015\n",
      "Epoch 96/100\n",
      "144/144 [==============================] - 1s 4ms/step - loss: 0.0016\n",
      "Epoch 97/100\n",
      "144/144 [==============================] - 1s 4ms/step - loss: 0.0014\n",
      "Epoch 98/100\n",
      "144/144 [==============================] - 1s 4ms/step - loss: 0.0017\n",
      "Epoch 99/100\n"
     ]
    },
    {
     "name": "stdout",
     "output_type": "stream",
     "text": [
      "144/144 [==============================] - 1s 4ms/step - loss: 0.0016\n",
      "Epoch 100/100\n",
      "144/144 [==============================] - 1s 4ms/step - loss: 0.0016\n"
     ]
    },
    {
     "data": {
      "text/plain": [
       "<keras.callbacks.History at 0x17e7d001670>"
      ]
     },
     "execution_count": 29,
     "metadata": {},
     "output_type": "execute_result"
    }
   ],
   "source": [
    "model.fit(generator,epochs=100)"
   ]
  },
  {
   "cell_type": "markdown",
   "id": "08862342",
   "metadata": {},
   "source": [
    "#### Plot Fit of Model"
   ]
  },
  {
   "cell_type": "code",
   "execution_count": 30,
   "id": "bdbdc005",
   "metadata": {},
   "outputs": [
    {
     "data": {
      "text/plain": [
       "[<matplotlib.lines.Line2D at 0x17e17ef5b20>]"
      ]
     },
     "execution_count": 30,
     "metadata": {},
     "output_type": "execute_result"
    },
    {
     "data": {
      "image/png": "[encoded data removed]",
      "text/plain": [
       "<Figure size 432x288 with 1 Axes>"
      ]
     },
     "metadata": {
      "needs_background": "light"
     },
     "output_type": "display_data"
    }
   ],
   "source": [
    "loss_per_epoch = model.history.history['loss']\n",
    "plt.plot(range(len(loss_per_epoch)),loss_per_epoch)"
   ]
  },
  {
   "cell_type": "code",
   "execution_count": 31,
   "id": "b61970c9",
   "metadata": {},
   "outputs": [],
   "source": [
    "last_train_batch = scaled_train[-12:]"
   ]
  },
  {
   "cell_type": "code",
   "execution_count": 32,
   "id": "b5bf2f30",
   "metadata": {},
   "outputs": [
    {
     "data": {
      "text/plain": [
       "array([[0.66105769],\n",
       "       [0.54086538],\n",
       "       [0.80769231],\n",
       "       [0.83894231],\n",
       "       [1.        ],\n",
       "       [0.94711538],\n",
       "       [0.85336538],\n",
       "       [0.75480769],\n",
       "       [0.62980769],\n",
       "       [0.62259615],\n",
       "       [0.52884615],\n",
       "       [0.625     ]])"
      ]
     },
     "execution_count": 32,
     "metadata": {},
     "output_type": "execute_result"
    }
   ],
   "source": [
    "last_train_batch"
   ]
  },
  {
   "cell_type": "code",
   "execution_count": 33,
   "id": "f2a7d9a2",
   "metadata": {},
   "outputs": [],
   "source": [
    "last_train_batch = last_train_batch.reshape((1, n_input, n_features))"
   ]
  },
  {
   "cell_type": "code",
   "execution_count": 34,
   "id": "bd24ddab",
   "metadata": {},
   "outputs": [
    {
     "data": {
      "text/plain": [
       "array([[[0.66105769],\n",
       "        [0.54086538],\n",
       "        [0.80769231],\n",
       "        [0.83894231],\n",
       "        [1.        ],\n",
       "        [0.94711538],\n",
       "        [0.85336538],\n",
       "        [0.75480769],\n",
       "        [0.62980769],\n",
       "        [0.62259615],\n",
       "        [0.52884615],\n",
       "        [0.625     ]]])"
      ]
     },
     "execution_count": 34,
     "metadata": {},
     "output_type": "execute_result"
    }
   ],
   "source": [
    "last_train_batch"
   ]
  },
  {
   "cell_type": "code",
   "execution_count": 35,
   "id": "6aab8b66",
   "metadata": {},
   "outputs": [
    {
     "data": {
      "text/plain": [
       "array([[0.67679536]], dtype=float32)"
      ]
     },
     "execution_count": 35,
     "metadata": {},
     "output_type": "execute_result"
    }
   ],
   "source": [
    "model.predict(last_train_batch)"
   ]
  },
  {
   "cell_type": "code",
   "execution_count": 36,
   "id": "a881f243",
   "metadata": {},
   "outputs": [
    {
     "data": {
      "text/plain": [
       "array([0.67548077])"
      ]
     },
     "execution_count": 36,
     "metadata": {},
     "output_type": "execute_result"
    }
   ],
   "source": [
    "scaled_test[0]"
   ]
  },
  {
   "cell_type": "code",
   "execution_count": 37,
   "id": "0febeb07",
   "metadata": {},
   "outputs": [],
   "source": [
    "test_predictions = []"
   ]
  },
  {
   "cell_type": "code",
   "execution_count": 38,
   "id": "4087c638",
   "metadata": {},
   "outputs": [],
   "source": [
    "first_eval_batch = scaled_train[-n_input:]\n",
    "current_batch = first_eval_batch.reshape((1, n_input, n_features))"
   ]
  },
  {
   "cell_type": "code",
   "execution_count": 39,
   "id": "d48bd4ca",
   "metadata": {},
   "outputs": [],
   "source": [
    "for i in range(len(test)):\n",
    "    \n",
    "    # get the prediction value for the first batch\n",
    "    current_pred = model.predict(current_batch)[0]\n",
    "    \n",
    "    # append the prediction into the array\n",
    "    test_predictions.append(current_pred) \n",
    "    \n",
    "    # use the prediction to update the batch and remove the first value\n",
    "    current_batch = np.append(current_batch[:,1:,:],[[current_pred]],axis=1)"
   ]
  },
  {
   "cell_type": "code",
   "execution_count": 40,
   "id": "88a25c98",
   "metadata": {},
   "outputs": [
    {
     "data": {
      "text/plain": [
       "[array([0.67679536], dtype=float32),\n",
       " array([0.63021356], dtype=float32),\n",
       " array([0.83979195], dtype=float32),\n",
       " array([0.8935436], dtype=float32),\n",
       " array([1.0331306], dtype=float32),\n",
       " array([0.9961753], dtype=float32),\n",
       " array([0.9166067], dtype=float32),\n",
       " array([0.8019888], dtype=float32),\n",
       " array([0.6840589], dtype=float32),\n",
       " array([0.6454905], dtype=float32),\n",
       " array([0.5841507], dtype=float32),\n",
       " array([0.6384454], dtype=float32)]"
      ]
     },
     "execution_count": 40,
     "metadata": {},
     "output_type": "execute_result"
    }
   ],
   "source": [
    "test_predictions"
   ]
  },
  {
   "cell_type": "markdown",
   "id": "51d3f639",
   "metadata": {},
   "source": [
    "#### Data Actual"
   ]
  },
  {
   "cell_type": "code",
   "execution_count": 41,
   "id": "24502a37",
   "metadata": {},
   "outputs": [
    {
     "data": {
      "text/html": [
       "<div>\n",
       "<style scoped>\n",
       "    .dataframe tbody tr th:only-of-type {\n",
       "        vertical-align: middle;\n",
       "    }\n",
       "\n",
       "    .dataframe tbody tr th {\n",
       "        vertical-align: top;\n",
       "    }\n",
       "\n",
       "    .dataframe thead th {\n",
       "        text-align: right;\n",
       "    }\n",
       "</style>\n",
       "<table border=\"1\" class=\"dataframe\">\n",
       "  <thead>\n",
       "    <tr style=\"text-align: right;\">\n",
       "      <th></th>\n",
       "      <th>Production</th>\n",
       "    </tr>\n",
       "    <tr>\n",
       "      <th>Date</th>\n",
       "      <th></th>\n",
       "    </tr>\n",
       "  </thead>\n",
       "  <tbody>\n",
       "    <tr>\n",
       "      <th>1975-01-01</th>\n",
       "      <td>834</td>\n",
       "    </tr>\n",
       "    <tr>\n",
       "      <th>1975-02-01</th>\n",
       "      <td>782</td>\n",
       "    </tr>\n",
       "    <tr>\n",
       "      <th>1975-03-01</th>\n",
       "      <td>892</td>\n",
       "    </tr>\n",
       "    <tr>\n",
       "      <th>1975-04-01</th>\n",
       "      <td>903</td>\n",
       "    </tr>\n",
       "    <tr>\n",
       "      <th>1975-05-01</th>\n",
       "      <td>966</td>\n",
       "    </tr>\n",
       "    <tr>\n",
       "      <th>1975-06-01</th>\n",
       "      <td>937</td>\n",
       "    </tr>\n",
       "    <tr>\n",
       "      <th>1975-07-01</th>\n",
       "      <td>896</td>\n",
       "    </tr>\n",
       "    <tr>\n",
       "      <th>1975-08-01</th>\n",
       "      <td>858</td>\n",
       "    </tr>\n",
       "    <tr>\n",
       "      <th>1975-09-01</th>\n",
       "      <td>817</td>\n",
       "    </tr>\n",
       "    <tr>\n",
       "      <th>1975-10-01</th>\n",
       "      <td>827</td>\n",
       "    </tr>\n",
       "    <tr>\n",
       "      <th>1975-11-01</th>\n",
       "      <td>797</td>\n",
       "    </tr>\n",
       "    <tr>\n",
       "      <th>1975-12-01</th>\n",
       "      <td>843</td>\n",
       "    </tr>\n",
       "  </tbody>\n",
       "</table>\n",
       "</div>"
      ],
      "text/plain": [
       "            Production\n",
       "Date                  \n",
       "1975-01-01         834\n",
       "1975-02-01         782\n",
       "1975-03-01         892\n",
       "1975-04-01         903\n",
       "1975-05-01         966\n",
       "1975-06-01         937\n",
       "1975-07-01         896\n",
       "1975-08-01         858\n",
       "1975-09-01         817\n",
       "1975-10-01         827\n",
       "1975-11-01         797\n",
       "1975-12-01         843"
      ]
     },
     "execution_count": 41,
     "metadata": {},
     "output_type": "execute_result"
    }
   ],
   "source": [
    "test"
   ]
  },
  {
   "cell_type": "markdown",
   "id": "625d83c8",
   "metadata": {},
   "source": [
    "#### Inverse Scaler Value to Absolute Calue on Prediction Value"
   ]
  },
  {
   "cell_type": "code",
   "execution_count": 42,
   "id": "91d907df",
   "metadata": {},
   "outputs": [],
   "source": [
    "true_predictions = scaler.inverse_transform(test_predictions)"
   ]
  },
  {
   "cell_type": "markdown",
   "id": "6253c460",
   "metadata": {},
   "source": [
    "#### Adding Value Prediction Column on Production Data"
   ]
  },
  {
   "cell_type": "code",
   "execution_count": 43,
   "id": "191330c7",
   "metadata": {},
   "outputs": [
    {
     "name": "stderr",
     "output_type": "stream",
     "text": [
      "<ipython-input-43-920b79c3c314>:1: SettingWithCopyWarning: \n",
      "A value is trying to be set on a copy of a slice from a DataFrame.\n",
      "Try using .loc[row_indexer,col_indexer] = value instead\n",
      "\n",
      "See the caveats in the documentation: https://pandas.pydata.org/pandas-docs/stable/user_guide/indexing.html#returning-a-view-versus-a-copy\n",
      "  test['Predictions'] = true_predictions\n"
     ]
    }
   ],
   "source": [
    "test['Predictions'] = true_predictions"
   ]
  },
  {
   "cell_type": "code",
   "execution_count": 44,
   "id": "660f998b",
   "metadata": {},
   "outputs": [
    {
     "data": {
      "text/html": [
       "<div>\n",
       "<style scoped>\n",
       "    .dataframe tbody tr th:only-of-type {\n",
       "        vertical-align: middle;\n",
       "    }\n",
       "\n",
       "    .dataframe tbody tr th {\n",
       "        vertical-align: top;\n",
       "    }\n",
       "\n",
       "    .dataframe thead th {\n",
       "        text-align: right;\n",
       "    }\n",
       "</style>\n",
       "<table border=\"1\" class=\"dataframe\">\n",
       "  <thead>\n",
       "    <tr style=\"text-align: right;\">\n",
       "      <th></th>\n",
       "      <th>Production</th>\n",
       "      <th>Predictions</th>\n",
       "    </tr>\n",
       "    <tr>\n",
       "      <th>Date</th>\n",
       "      <th></th>\n",
       "      <th></th>\n",
       "    </tr>\n",
       "  </thead>\n",
       "  <tbody>\n",
       "    <tr>\n",
       "      <th>1975-01-01</th>\n",
       "      <td>834</td>\n",
       "      <td>834.546871</td>\n",
       "    </tr>\n",
       "    <tr>\n",
       "      <th>1975-02-01</th>\n",
       "      <td>782</td>\n",
       "      <td>815.168840</td>\n",
       "    </tr>\n",
       "    <tr>\n",
       "      <th>1975-03-01</th>\n",
       "      <td>892</td>\n",
       "      <td>902.353453</td>\n",
       "    </tr>\n",
       "    <tr>\n",
       "      <th>1975-04-01</th>\n",
       "      <td>903</td>\n",
       "      <td>924.714138</td>\n",
       "    </tr>\n",
       "    <tr>\n",
       "      <th>1975-05-01</th>\n",
       "      <td>966</td>\n",
       "      <td>982.782349</td>\n",
       "    </tr>\n",
       "    <tr>\n",
       "      <th>1975-06-01</th>\n",
       "      <td>937</td>\n",
       "      <td>967.408920</td>\n",
       "    </tr>\n",
       "    <tr>\n",
       "      <th>1975-07-01</th>\n",
       "      <td>896</td>\n",
       "      <td>934.308397</td>\n",
       "    </tr>\n",
       "    <tr>\n",
       "      <th>1975-08-01</th>\n",
       "      <td>858</td>\n",
       "      <td>886.627333</td>\n",
       "    </tr>\n",
       "    <tr>\n",
       "      <th>1975-09-01</th>\n",
       "      <td>817</td>\n",
       "      <td>837.568504</td>\n",
       "    </tr>\n",
       "    <tr>\n",
       "      <th>1975-10-01</th>\n",
       "      <td>827</td>\n",
       "      <td>821.524059</td>\n",
       "    </tr>\n",
       "    <tr>\n",
       "      <th>1975-11-01</th>\n",
       "      <td>797</td>\n",
       "      <td>796.006680</td>\n",
       "    </tr>\n",
       "    <tr>\n",
       "      <th>1975-12-01</th>\n",
       "      <td>843</td>\n",
       "      <td>818.593277</td>\n",
       "    </tr>\n",
       "  </tbody>\n",
       "</table>\n",
       "</div>"
      ],
      "text/plain": [
       "            Production  Predictions\n",
       "Date                               \n",
       "1975-01-01         834   834.546871\n",
       "1975-02-01         782   815.168840\n",
       "1975-03-01         892   902.353453\n",
       "1975-04-01         903   924.714138\n",
       "1975-05-01         966   982.782349\n",
       "1975-06-01         937   967.408920\n",
       "1975-07-01         896   934.308397\n",
       "1975-08-01         858   886.627333\n",
       "1975-09-01         817   837.568504\n",
       "1975-10-01         827   821.524059\n",
       "1975-11-01         797   796.006680\n",
       "1975-12-01         843   818.593277"
      ]
     },
     "execution_count": 44,
     "metadata": {},
     "output_type": "execute_result"
    }
   ],
   "source": [
    "test"
   ]
  },
  {
   "cell_type": "markdown",
   "id": "30f80386",
   "metadata": {},
   "source": [
    "#### Plot Between Production and Prediction Value"
   ]
  },
  {
   "cell_type": "code",
   "execution_count": 45,
   "id": "65a4ba79",
   "metadata": {},
   "outputs": [
    {
     "data": {
      "text/plain": [
       "<AxesSubplot:xlabel='Date'>"
      ]
     },
     "execution_count": 45,
     "metadata": {},
     "output_type": "execute_result"
    },
    {
     "data": {
      "image/png": "[encoded data removed]",
      "text/plain": [
       "<Figure size 1008x360 with 1 Axes>"
      ]
     },
     "metadata": {
      "needs_background": "light"
     },
     "output_type": "display_data"
    }
   ],
   "source": [
    "test.plot(figsize=(14,5))"
   ]
  },
  {
   "cell_type": "markdown",
   "id": "da5350ff",
   "metadata": {},
   "source": [
    "#### Import Library RMSE, Purpose to Check How Many Error Between Production and Prediction"
   ]
  },
  {
   "cell_type": "code",
   "execution_count": 46,
   "id": "0d4b3b80",
   "metadata": {},
   "outputs": [],
   "source": [
    "from sklearn.metrics import mean_squared_error\n",
    "from math import sqrt"
   ]
  },
  {
   "cell_type": "code",
   "execution_count": 47,
   "id": "81fe033c",
   "metadata": {},
   "outputs": [
    {
     "name": "stdout",
     "output_type": "stream",
     "text": [
      "22.77114413945882\n"
     ]
    }
   ],
   "source": [
    "rmse=sqrt(mean_squared_error(test['Production'],test['Predictions']))\n",
    "print(rmse)"
   ]
  },
  {
   "cell_type": "markdown",
   "id": "09394895",
   "metadata": {},
   "source": [
    "#### Ploting Forecasting Analysis"
   ]
  },
  {
   "cell_type": "code",
   "execution_count": 48,
   "id": "b52d8cee",
   "metadata": {},
   "outputs": [],
   "source": [
    "actual_data = df"
   ]
  },
  {
   "cell_type": "code",
   "execution_count": 49,
   "id": "1db1acfa",
   "metadata": {},
   "outputs": [
    {
     "data": {
      "text/html": [
       "<div>\n",
       "<style scoped>\n",
       "    .dataframe tbody tr th:only-of-type {\n",
       "        vertical-align: middle;\n",
       "    }\n",
       "\n",
       "    .dataframe tbody tr th {\n",
       "        vertical-align: top;\n",
       "    }\n",
       "\n",
       "    .dataframe thead th {\n",
       "        text-align: right;\n",
       "    }\n",
       "</style>\n",
       "<table border=\"1\" class=\"dataframe\">\n",
       "  <thead>\n",
       "    <tr style=\"text-align: right;\">\n",
       "      <th></th>\n",
       "      <th>Production</th>\n",
       "    </tr>\n",
       "    <tr>\n",
       "      <th>Date</th>\n",
       "      <th></th>\n",
       "    </tr>\n",
       "  </thead>\n",
       "  <tbody>\n",
       "    <tr>\n",
       "      <th>1962-01-01</th>\n",
       "      <td>589</td>\n",
       "    </tr>\n",
       "    <tr>\n",
       "      <th>1962-02-01</th>\n",
       "      <td>561</td>\n",
       "    </tr>\n",
       "    <tr>\n",
       "      <th>1962-03-01</th>\n",
       "      <td>640</td>\n",
       "    </tr>\n",
       "    <tr>\n",
       "      <th>1962-04-01</th>\n",
       "      <td>656</td>\n",
       "    </tr>\n",
       "    <tr>\n",
       "      <th>1962-05-01</th>\n",
       "      <td>727</td>\n",
       "    </tr>\n",
       "    <tr>\n",
       "      <th>...</th>\n",
       "      <td>...</td>\n",
       "    </tr>\n",
       "    <tr>\n",
       "      <th>1975-08-01</th>\n",
       "      <td>858</td>\n",
       "    </tr>\n",
       "    <tr>\n",
       "      <th>1975-09-01</th>\n",
       "      <td>817</td>\n",
       "    </tr>\n",
       "    <tr>\n",
       "      <th>1975-10-01</th>\n",
       "      <td>827</td>\n",
       "    </tr>\n",
       "    <tr>\n",
       "      <th>1975-11-01</th>\n",
       "      <td>797</td>\n",
       "    </tr>\n",
       "    <tr>\n",
       "      <th>1975-12-01</th>\n",
       "      <td>843</td>\n",
       "    </tr>\n",
       "  </tbody>\n",
       "</table>\n",
       "<p>168 rows × 1 columns</p>\n",
       "</div>"
      ],
      "text/plain": [
       "            Production\n",
       "Date                  \n",
       "1962-01-01         589\n",
       "1962-02-01         561\n",
       "1962-03-01         640\n",
       "1962-04-01         656\n",
       "1962-05-01         727\n",
       "...                ...\n",
       "1975-08-01         858\n",
       "1975-09-01         817\n",
       "1975-10-01         827\n",
       "1975-11-01         797\n",
       "1975-12-01         843\n",
       "\n",
       "[168 rows x 1 columns]"
      ]
     },
     "execution_count": 49,
     "metadata": {},
     "output_type": "execute_result"
    }
   ],
   "source": [
    "actual_data"
   ]
  },
  {
   "cell_type": "code",
   "execution_count": 50,
   "id": "7e9f2778",
   "metadata": {},
   "outputs": [
    {
     "data": {
      "text/plain": [
       "<AxesSubplot:xlabel='Date'>"
      ]
     },
     "execution_count": 50,
     "metadata": {},
     "output_type": "execute_result"
    },
    {
     "data": {
      "image/png": "[encoded data removed]",
      "text/plain": [
       "<Figure size 432x288 with 1 Axes>"
      ]
     },
     "metadata": {
      "needs_background": "light"
     },
     "output_type": "display_data"
    }
   ],
   "source": [
    "actual_data.plot()"
   ]
  },
  {
   "cell_type": "code",
   "execution_count": 51,
   "id": "a60c2185",
   "metadata": {},
   "outputs": [
    {
     "data": {
      "text/html": [
       "<div>\n",
       "<style scoped>\n",
       "    .dataframe tbody tr th:only-of-type {\n",
       "        vertical-align: middle;\n",
       "    }\n",
       "\n",
       "    .dataframe tbody tr th {\n",
       "        vertical-align: top;\n",
       "    }\n",
       "\n",
       "    .dataframe thead th {\n",
       "        text-align: right;\n",
       "    }\n",
       "</style>\n",
       "<table border=\"1\" class=\"dataframe\">\n",
       "  <thead>\n",
       "    <tr style=\"text-align: right;\">\n",
       "      <th></th>\n",
       "      <th>Production</th>\n",
       "    </tr>\n",
       "    <tr>\n",
       "      <th>Date</th>\n",
       "      <th></th>\n",
       "    </tr>\n",
       "  </thead>\n",
       "  <tbody>\n",
       "    <tr>\n",
       "      <th>1962-01-01</th>\n",
       "      <td>589</td>\n",
       "    </tr>\n",
       "    <tr>\n",
       "      <th>1962-02-01</th>\n",
       "      <td>561</td>\n",
       "    </tr>\n",
       "    <tr>\n",
       "      <th>1962-03-01</th>\n",
       "      <td>640</td>\n",
       "    </tr>\n",
       "    <tr>\n",
       "      <th>1962-04-01</th>\n",
       "      <td>656</td>\n",
       "    </tr>\n",
       "    <tr>\n",
       "      <th>1962-05-01</th>\n",
       "      <td>727</td>\n",
       "    </tr>\n",
       "    <tr>\n",
       "      <th>...</th>\n",
       "      <td>...</td>\n",
       "    </tr>\n",
       "    <tr>\n",
       "      <th>1974-08-01</th>\n",
       "      <td>867</td>\n",
       "    </tr>\n",
       "    <tr>\n",
       "      <th>1974-09-01</th>\n",
       "      <td>815</td>\n",
       "    </tr>\n",
       "    <tr>\n",
       "      <th>1974-10-01</th>\n",
       "      <td>812</td>\n",
       "    </tr>\n",
       "    <tr>\n",
       "      <th>1974-11-01</th>\n",
       "      <td>773</td>\n",
       "    </tr>\n",
       "    <tr>\n",
       "      <th>1974-12-01</th>\n",
       "      <td>813</td>\n",
       "    </tr>\n",
       "  </tbody>\n",
       "</table>\n",
       "<p>156 rows × 1 columns</p>\n",
       "</div>"
      ],
      "text/plain": [
       "            Production\n",
       "Date                  \n",
       "1962-01-01         589\n",
       "1962-02-01         561\n",
       "1962-03-01         640\n",
       "1962-04-01         656\n",
       "1962-05-01         727\n",
       "...                ...\n",
       "1974-08-01         867\n",
       "1974-09-01         815\n",
       "1974-10-01         812\n",
       "1974-11-01         773\n",
       "1974-12-01         813\n",
       "\n",
       "[156 rows x 1 columns]"
      ]
     },
     "execution_count": 51,
     "metadata": {},
     "output_type": "execute_result"
    }
   ],
   "source": [
    "train"
   ]
  },
  {
   "cell_type": "code",
   "execution_count": 52,
   "id": "0a9398a9",
   "metadata": {},
   "outputs": [
    {
     "data": {
      "text/html": [
       "<div>\n",
       "<style scoped>\n",
       "    .dataframe tbody tr th:only-of-type {\n",
       "        vertical-align: middle;\n",
       "    }\n",
       "\n",
       "    .dataframe tbody tr th {\n",
       "        vertical-align: top;\n",
       "    }\n",
       "\n",
       "    .dataframe thead th {\n",
       "        text-align: right;\n",
       "    }\n",
       "</style>\n",
       "<table border=\"1\" class=\"dataframe\">\n",
       "  <thead>\n",
       "    <tr style=\"text-align: right;\">\n",
       "      <th></th>\n",
       "      <th>Production</th>\n",
       "      <th>Predictions</th>\n",
       "    </tr>\n",
       "    <tr>\n",
       "      <th>Date</th>\n",
       "      <th></th>\n",
       "      <th></th>\n",
       "    </tr>\n",
       "  </thead>\n",
       "  <tbody>\n",
       "    <tr>\n",
       "      <th>1975-01-01</th>\n",
       "      <td>834</td>\n",
       "      <td>834.546871</td>\n",
       "    </tr>\n",
       "    <tr>\n",
       "      <th>1975-02-01</th>\n",
       "      <td>782</td>\n",
       "      <td>815.168840</td>\n",
       "    </tr>\n",
       "    <tr>\n",
       "      <th>1975-03-01</th>\n",
       "      <td>892</td>\n",
       "      <td>902.353453</td>\n",
       "    </tr>\n",
       "    <tr>\n",
       "      <th>1975-04-01</th>\n",
       "      <td>903</td>\n",
       "      <td>924.714138</td>\n",
       "    </tr>\n",
       "    <tr>\n",
       "      <th>1975-05-01</th>\n",
       "      <td>966</td>\n",
       "      <td>982.782349</td>\n",
       "    </tr>\n",
       "    <tr>\n",
       "      <th>1975-06-01</th>\n",
       "      <td>937</td>\n",
       "      <td>967.408920</td>\n",
       "    </tr>\n",
       "    <tr>\n",
       "      <th>1975-07-01</th>\n",
       "      <td>896</td>\n",
       "      <td>934.308397</td>\n",
       "    </tr>\n",
       "    <tr>\n",
       "      <th>1975-08-01</th>\n",
       "      <td>858</td>\n",
       "      <td>886.627333</td>\n",
       "    </tr>\n",
       "    <tr>\n",
       "      <th>1975-09-01</th>\n",
       "      <td>817</td>\n",
       "      <td>837.568504</td>\n",
       "    </tr>\n",
       "    <tr>\n",
       "      <th>1975-10-01</th>\n",
       "      <td>827</td>\n",
       "      <td>821.524059</td>\n",
       "    </tr>\n",
       "    <tr>\n",
       "      <th>1975-11-01</th>\n",
       "      <td>797</td>\n",
       "      <td>796.006680</td>\n",
       "    </tr>\n",
       "    <tr>\n",
       "      <th>1975-12-01</th>\n",
       "      <td>843</td>\n",
       "      <td>818.593277</td>\n",
       "    </tr>\n",
       "  </tbody>\n",
       "</table>\n",
       "</div>"
      ],
      "text/plain": [
       "            Production  Predictions\n",
       "Date                               \n",
       "1975-01-01         834   834.546871\n",
       "1975-02-01         782   815.168840\n",
       "1975-03-01         892   902.353453\n",
       "1975-04-01         903   924.714138\n",
       "1975-05-01         966   982.782349\n",
       "1975-06-01         937   967.408920\n",
       "1975-07-01         896   934.308397\n",
       "1975-08-01         858   886.627333\n",
       "1975-09-01         817   837.568504\n",
       "1975-10-01         827   821.524059\n",
       "1975-11-01         797   796.006680\n",
       "1975-12-01         843   818.593277"
      ]
     },
     "execution_count": 52,
     "metadata": {},
     "output_type": "execute_result"
    }
   ],
   "source": [
    "test"
   ]
  },
  {
   "cell_type": "code",
   "execution_count": 53,
   "id": "efa610ed",
   "metadata": {},
   "outputs": [],
   "source": [
    "test2 = test['Predictions']"
   ]
  },
  {
   "cell_type": "code",
   "execution_count": 54,
   "id": "8a9d2f9d",
   "metadata": {},
   "outputs": [
    {
     "data": {
      "text/plain": [
       "156"
      ]
     },
     "execution_count": 54,
     "metadata": {},
     "output_type": "execute_result"
    }
   ],
   "source": [
    "len(train)"
   ]
  },
  {
   "cell_type": "code",
   "execution_count": 55,
   "id": "e7adcfe8",
   "metadata": {},
   "outputs": [
    {
     "data": {
      "text/plain": [
       "12"
      ]
     },
     "execution_count": 55,
     "metadata": {},
     "output_type": "execute_result"
    }
   ],
   "source": [
    "len(test2)"
   ]
  },
  {
   "cell_type": "code",
   "execution_count": 56,
   "id": "791dd14b",
   "metadata": {},
   "outputs": [],
   "source": [
    "df['Prediction'] = test2"
   ]
  },
  {
   "cell_type": "code",
   "execution_count": 57,
   "id": "0386778d",
   "metadata": {},
   "outputs": [
    {
     "data": {
      "text/html": [
       "<div>\n",
       "<style scoped>\n",
       "    .dataframe tbody tr th:only-of-type {\n",
       "        vertical-align: middle;\n",
       "    }\n",
       "\n",
       "    .dataframe tbody tr th {\n",
       "        vertical-align: top;\n",
       "    }\n",
       "\n",
       "    .dataframe thead th {\n",
       "        text-align: right;\n",
       "    }\n",
       "</style>\n",
       "<table border=\"1\" class=\"dataframe\">\n",
       "  <thead>\n",
       "    <tr style=\"text-align: right;\">\n",
       "      <th></th>\n",
       "      <th>Production</th>\n",
       "      <th>Prediction</th>\n",
       "    </tr>\n",
       "    <tr>\n",
       "      <th>Date</th>\n",
       "      <th></th>\n",
       "      <th></th>\n",
       "    </tr>\n",
       "  </thead>\n",
       "  <tbody>\n",
       "    <tr>\n",
       "      <th>1962-01-01</th>\n",
       "      <td>589</td>\n",
       "      <td>NaN</td>\n",
       "    </tr>\n",
       "    <tr>\n",
       "      <th>1962-02-01</th>\n",
       "      <td>561</td>\n",
       "      <td>NaN</td>\n",
       "    </tr>\n",
       "    <tr>\n",
       "      <th>1962-03-01</th>\n",
       "      <td>640</td>\n",
       "      <td>NaN</td>\n",
       "    </tr>\n",
       "    <tr>\n",
       "      <th>1962-04-01</th>\n",
       "      <td>656</td>\n",
       "      <td>NaN</td>\n",
       "    </tr>\n",
       "    <tr>\n",
       "      <th>1962-05-01</th>\n",
       "      <td>727</td>\n",
       "      <td>NaN</td>\n",
       "    </tr>\n",
       "    <tr>\n",
       "      <th>...</th>\n",
       "      <td>...</td>\n",
       "      <td>...</td>\n",
       "    </tr>\n",
       "    <tr>\n",
       "      <th>1975-08-01</th>\n",
       "      <td>858</td>\n",
       "      <td>886.627333</td>\n",
       "    </tr>\n",
       "    <tr>\n",
       "      <th>1975-09-01</th>\n",
       "      <td>817</td>\n",
       "      <td>837.568504</td>\n",
       "    </tr>\n",
       "    <tr>\n",
       "      <th>1975-10-01</th>\n",
       "      <td>827</td>\n",
       "      <td>821.524059</td>\n",
       "    </tr>\n",
       "    <tr>\n",
       "      <th>1975-11-01</th>\n",
       "      <td>797</td>\n",
       "      <td>796.006680</td>\n",
       "    </tr>\n",
       "    <tr>\n",
       "      <th>1975-12-01</th>\n",
       "      <td>843</td>\n",
       "      <td>818.593277</td>\n",
       "    </tr>\n",
       "  </tbody>\n",
       "</table>\n",
       "<p>168 rows × 2 columns</p>\n",
       "</div>"
      ],
      "text/plain": [
       "            Production  Prediction\n",
       "Date                              \n",
       "1962-01-01         589         NaN\n",
       "1962-02-01         561         NaN\n",
       "1962-03-01         640         NaN\n",
       "1962-04-01         656         NaN\n",
       "1962-05-01         727         NaN\n",
       "...                ...         ...\n",
       "1975-08-01         858  886.627333\n",
       "1975-09-01         817  837.568504\n",
       "1975-10-01         827  821.524059\n",
       "1975-11-01         797  796.006680\n",
       "1975-12-01         843  818.593277\n",
       "\n",
       "[168 rows x 2 columns]"
      ]
     },
     "execution_count": 57,
     "metadata": {},
     "output_type": "execute_result"
    }
   ],
   "source": [
    "df"
   ]
  },
  {
   "cell_type": "code",
   "execution_count": 58,
   "id": "29d8c592",
   "metadata": {},
   "outputs": [
    {
     "data": {
      "text/plain": [
       "<AxesSubplot:xlabel='Date'>"
      ]
     },
     "execution_count": 58,
     "metadata": {},
     "output_type": "execute_result"
    },
    {
     "data": {
      "image/png": "[encoded data removed]",
      "text/plain": [
       "<Figure size 1008x360 with 1 Axes>"
      ]
     },
     "metadata": {
      "needs_background": "light"
     },
     "output_type": "display_data"
    }
   ],
   "source": [
    "df.plot(figsize=(14,5))"
   ]
  },
  {
   "cell_type": "code",
   "execution_count": 59,
   "id": "76e3e12c",
   "metadata": {},
   "outputs": [],
   "source": [
    "data_prod_predict_last_12 = pd.concat([train,test2])"
   ]
  },
  {
   "cell_type": "code",
   "execution_count": 60,
   "id": "ccd60912",
   "metadata": {},
   "outputs": [
    {
     "data": {
      "text/html": [
       "<div>\n",
       "<style scoped>\n",
       "    .dataframe tbody tr th:only-of-type {\n",
       "        vertical-align: middle;\n",
       "    }\n",
       "\n",
       "    .dataframe tbody tr th {\n",
       "        vertical-align: top;\n",
       "    }\n",
       "\n",
       "    .dataframe thead th {\n",
       "        text-align: right;\n",
       "    }\n",
       "</style>\n",
       "<table border=\"1\" class=\"dataframe\">\n",
       "  <thead>\n",
       "    <tr style=\"text-align: right;\">\n",
       "      <th></th>\n",
       "      <th>Production</th>\n",
       "      <th>0</th>\n",
       "    </tr>\n",
       "    <tr>\n",
       "      <th>Date</th>\n",
       "      <th></th>\n",
       "      <th></th>\n",
       "    </tr>\n",
       "  </thead>\n",
       "  <tbody>\n",
       "    <tr>\n",
       "      <th>1962-01-01</th>\n",
       "      <td>589.0</td>\n",
       "      <td>NaN</td>\n",
       "    </tr>\n",
       "    <tr>\n",
       "      <th>1962-02-01</th>\n",
       "      <td>561.0</td>\n",
       "      <td>NaN</td>\n",
       "    </tr>\n",
       "    <tr>\n",
       "      <th>1962-03-01</th>\n",
       "      <td>640.0</td>\n",
       "      <td>NaN</td>\n",
       "    </tr>\n",
       "    <tr>\n",
       "      <th>1962-04-01</th>\n",
       "      <td>656.0</td>\n",
       "      <td>NaN</td>\n",
       "    </tr>\n",
       "    <tr>\n",
       "      <th>1962-05-01</th>\n",
       "      <td>727.0</td>\n",
       "      <td>NaN</td>\n",
       "    </tr>\n",
       "    <tr>\n",
       "      <th>...</th>\n",
       "      <td>...</td>\n",
       "      <td>...</td>\n",
       "    </tr>\n",
       "    <tr>\n",
       "      <th>1975-08-01</th>\n",
       "      <td>NaN</td>\n",
       "      <td>886.627333</td>\n",
       "    </tr>\n",
       "    <tr>\n",
       "      <th>1975-09-01</th>\n",
       "      <td>NaN</td>\n",
       "      <td>837.568504</td>\n",
       "    </tr>\n",
       "    <tr>\n",
       "      <th>1975-10-01</th>\n",
       "      <td>NaN</td>\n",
       "      <td>821.524059</td>\n",
       "    </tr>\n",
       "    <tr>\n",
       "      <th>1975-11-01</th>\n",
       "      <td>NaN</td>\n",
       "      <td>796.006680</td>\n",
       "    </tr>\n",
       "    <tr>\n",
       "      <th>1975-12-01</th>\n",
       "      <td>NaN</td>\n",
       "      <td>818.593277</td>\n",
       "    </tr>\n",
       "  </tbody>\n",
       "</table>\n",
       "<p>168 rows × 2 columns</p>\n",
       "</div>"
      ],
      "text/plain": [
       "            Production           0\n",
       "Date                              \n",
       "1962-01-01       589.0         NaN\n",
       "1962-02-01       561.0         NaN\n",
       "1962-03-01       640.0         NaN\n",
       "1962-04-01       656.0         NaN\n",
       "1962-05-01       727.0         NaN\n",
       "...                ...         ...\n",
       "1975-08-01         NaN  886.627333\n",
       "1975-09-01         NaN  837.568504\n",
       "1975-10-01         NaN  821.524059\n",
       "1975-11-01         NaN  796.006680\n",
       "1975-12-01         NaN  818.593277\n",
       "\n",
       "[168 rows x 2 columns]"
      ]
     },
     "execution_count": 60,
     "metadata": {},
     "output_type": "execute_result"
    }
   ],
   "source": [
    "data_prod_predict_last_12"
   ]
  },
  {
   "cell_type": "code",
   "execution_count": 61,
   "id": "3557351b",
   "metadata": {},
   "outputs": [],
   "source": [
    "data_prod_predict_last_12.columns = ['Production', 'Prediction']"
   ]
  },
  {
   "cell_type": "code",
   "execution_count": 62,
   "id": "9b8b9840",
   "metadata": {},
   "outputs": [
    {
     "data": {
      "text/plain": [
       "<AxesSubplot:xlabel='Date'>"
      ]
     },
     "execution_count": 62,
     "metadata": {},
     "output_type": "execute_result"
    },
    {
     "data": {
      "image/png": "[encoded data removed]",
      "text/plain": [
       "<Figure size 1008x360 with 1 Axes>"
      ]
     },
     "metadata": {
      "needs_background": "light"
     },
     "output_type": "display_data"
    }
   ],
   "source": [
    "data_prod_predict_last_12.plot(figsize=(14,5))"
   ]
  },
  {
   "cell_type": "code",
   "execution_count": 63,
   "id": "f602428b",
   "metadata": {},
   "outputs": [
    {
     "data": {
      "text/html": [
       "<div>\n",
       "<style scoped>\n",
       "    .dataframe tbody tr th:only-of-type {\n",
       "        vertical-align: middle;\n",
       "    }\n",
       "\n",
       "    .dataframe tbody tr th {\n",
       "        vertical-align: top;\n",
       "    }\n",
       "\n",
       "    .dataframe thead th {\n",
       "        text-align: right;\n",
       "    }\n",
       "</style>\n",
       "<table border=\"1\" class=\"dataframe\">\n",
       "  <thead>\n",
       "    <tr style=\"text-align: right;\">\n",
       "      <th></th>\n",
       "      <th>Production</th>\n",
       "      <th>Prediction</th>\n",
       "    </tr>\n",
       "    <tr>\n",
       "      <th>Date</th>\n",
       "      <th></th>\n",
       "      <th></th>\n",
       "    </tr>\n",
       "  </thead>\n",
       "  <tbody>\n",
       "    <tr>\n",
       "      <th>1962-01-01</th>\n",
       "      <td>589.0</td>\n",
       "      <td>NaN</td>\n",
       "    </tr>\n",
       "    <tr>\n",
       "      <th>1962-02-01</th>\n",
       "      <td>561.0</td>\n",
       "      <td>NaN</td>\n",
       "    </tr>\n",
       "    <tr>\n",
       "      <th>1962-03-01</th>\n",
       "      <td>640.0</td>\n",
       "      <td>NaN</td>\n",
       "    </tr>\n",
       "    <tr>\n",
       "      <th>1962-04-01</th>\n",
       "      <td>656.0</td>\n",
       "      <td>NaN</td>\n",
       "    </tr>\n",
       "    <tr>\n",
       "      <th>1962-05-01</th>\n",
       "      <td>727.0</td>\n",
       "      <td>NaN</td>\n",
       "    </tr>\n",
       "    <tr>\n",
       "      <th>...</th>\n",
       "      <td>...</td>\n",
       "      <td>...</td>\n",
       "    </tr>\n",
       "    <tr>\n",
       "      <th>1975-08-01</th>\n",
       "      <td>NaN</td>\n",
       "      <td>886.627333</td>\n",
       "    </tr>\n",
       "    <tr>\n",
       "      <th>1975-09-01</th>\n",
       "      <td>NaN</td>\n",
       "      <td>837.568504</td>\n",
       "    </tr>\n",
       "    <tr>\n",
       "      <th>1975-10-01</th>\n",
       "      <td>NaN</td>\n",
       "      <td>821.524059</td>\n",
       "    </tr>\n",
       "    <tr>\n",
       "      <th>1975-11-01</th>\n",
       "      <td>NaN</td>\n",
       "      <td>796.006680</td>\n",
       "    </tr>\n",
       "    <tr>\n",
       "      <th>1975-12-01</th>\n",
       "      <td>NaN</td>\n",
       "      <td>818.593277</td>\n",
       "    </tr>\n",
       "  </tbody>\n",
       "</table>\n",
       "<p>168 rows × 2 columns</p>\n",
       "</div>"
      ],
      "text/plain": [
       "            Production  Prediction\n",
       "Date                              \n",
       "1962-01-01       589.0         NaN\n",
       "1962-02-01       561.0         NaN\n",
       "1962-03-01       640.0         NaN\n",
       "1962-04-01       656.0         NaN\n",
       "1962-05-01       727.0         NaN\n",
       "...                ...         ...\n",
       "1975-08-01         NaN  886.627333\n",
       "1975-09-01         NaN  837.568504\n",
       "1975-10-01         NaN  821.524059\n",
       "1975-11-01         NaN  796.006680\n",
       "1975-12-01         NaN  818.593277\n",
       "\n",
       "[168 rows x 2 columns]"
      ]
     },
     "execution_count": 63,
     "metadata": {},
     "output_type": "execute_result"
    }
   ],
   "source": [
    "data_prod_predict_last_12"
   ]
  },
  {
   "cell_type": "code",
   "execution_count": 64,
   "id": "a843536a",
   "metadata": {},
   "outputs": [],
   "source": [
    "data_prod_predict_last_12['Number'] = n_input"
   ]
  },
  {
   "cell_type": "code",
   "execution_count": 65,
   "id": "1200cd38",
   "metadata": {},
   "outputs": [
    {
     "data": {
      "text/html": [
       "<div>\n",
       "<style scoped>\n",
       "    .dataframe tbody tr th:only-of-type {\n",
       "        vertical-align: middle;\n",
       "    }\n",
       "\n",
       "    .dataframe tbody tr th {\n",
       "        vertical-align: top;\n",
       "    }\n",
       "\n",
       "    .dataframe thead th {\n",
       "        text-align: right;\n",
       "    }\n",
       "</style>\n",
       "<table border=\"1\" class=\"dataframe\">\n",
       "  <thead>\n",
       "    <tr style=\"text-align: right;\">\n",
       "      <th></th>\n",
       "      <th>Production</th>\n",
       "      <th>Prediction</th>\n",
       "      <th>Number</th>\n",
       "    </tr>\n",
       "    <tr>\n",
       "      <th>Date</th>\n",
       "      <th></th>\n",
       "      <th></th>\n",
       "      <th></th>\n",
       "    </tr>\n",
       "  </thead>\n",
       "  <tbody>\n",
       "    <tr>\n",
       "      <th>1962-01-01</th>\n",
       "      <td>589.0</td>\n",
       "      <td>NaN</td>\n",
       "      <td>12</td>\n",
       "    </tr>\n",
       "    <tr>\n",
       "      <th>1962-02-01</th>\n",
       "      <td>561.0</td>\n",
       "      <td>NaN</td>\n",
       "      <td>12</td>\n",
       "    </tr>\n",
       "    <tr>\n",
       "      <th>1962-03-01</th>\n",
       "      <td>640.0</td>\n",
       "      <td>NaN</td>\n",
       "      <td>12</td>\n",
       "    </tr>\n",
       "    <tr>\n",
       "      <th>1962-04-01</th>\n",
       "      <td>656.0</td>\n",
       "      <td>NaN</td>\n",
       "      <td>12</td>\n",
       "    </tr>\n",
       "    <tr>\n",
       "      <th>1962-05-01</th>\n",
       "      <td>727.0</td>\n",
       "      <td>NaN</td>\n",
       "      <td>12</td>\n",
       "    </tr>\n",
       "  </tbody>\n",
       "</table>\n",
       "</div>"
      ],
      "text/plain": [
       "            Production  Prediction  Number\n",
       "Date                                      \n",
       "1962-01-01       589.0         NaN      12\n",
       "1962-02-01       561.0         NaN      12\n",
       "1962-03-01       640.0         NaN      12\n",
       "1962-04-01       656.0         NaN      12\n",
       "1962-05-01       727.0         NaN      12"
      ]
     },
     "execution_count": 65,
     "metadata": {},
     "output_type": "execute_result"
    }
   ],
   "source": [
    "data_prod_predict_last_12.head()"
   ]
  },
  {
   "cell_type": "code",
   "execution_count": 66,
   "id": "4e271a23",
   "metadata": {},
   "outputs": [],
   "source": [
    "data_final = data_prod_predict_last_12"
   ]
  },
  {
   "cell_type": "code",
   "execution_count": 67,
   "id": "14252a8f",
   "metadata": {},
   "outputs": [],
   "source": [
    "data_final.reset_index('Date',inplace=True)"
   ]
  },
  {
   "cell_type": "code",
   "execution_count": 68,
   "id": "57a3362c",
   "metadata": {},
   "outputs": [
    {
     "data": {
      "text/html": [
       "<div>\n",
       "<style scoped>\n",
       "    .dataframe tbody tr th:only-of-type {\n",
       "        vertical-align: middle;\n",
       "    }\n",
       "\n",
       "    .dataframe tbody tr th {\n",
       "        vertical-align: top;\n",
       "    }\n",
       "\n",
       "    .dataframe thead th {\n",
       "        text-align: right;\n",
       "    }\n",
       "</style>\n",
       "<table border=\"1\" class=\"dataframe\">\n",
       "  <thead>\n",
       "    <tr style=\"text-align: right;\">\n",
       "      <th></th>\n",
       "      <th>Date</th>\n",
       "      <th>Production</th>\n",
       "      <th>Prediction</th>\n",
       "      <th>Number</th>\n",
       "    </tr>\n",
       "  </thead>\n",
       "  <tbody>\n",
       "    <tr>\n",
       "      <th>0</th>\n",
       "      <td>1962-01-01</td>\n",
       "      <td>589.0</td>\n",
       "      <td>NaN</td>\n",
       "      <td>12</td>\n",
       "    </tr>\n",
       "    <tr>\n",
       "      <th>1</th>\n",
       "      <td>1962-02-01</td>\n",
       "      <td>561.0</td>\n",
       "      <td>NaN</td>\n",
       "      <td>12</td>\n",
       "    </tr>\n",
       "    <tr>\n",
       "      <th>2</th>\n",
       "      <td>1962-03-01</td>\n",
       "      <td>640.0</td>\n",
       "      <td>NaN</td>\n",
       "      <td>12</td>\n",
       "    </tr>\n",
       "    <tr>\n",
       "      <th>3</th>\n",
       "      <td>1962-04-01</td>\n",
       "      <td>656.0</td>\n",
       "      <td>NaN</td>\n",
       "      <td>12</td>\n",
       "    </tr>\n",
       "    <tr>\n",
       "      <th>4</th>\n",
       "      <td>1962-05-01</td>\n",
       "      <td>727.0</td>\n",
       "      <td>NaN</td>\n",
       "      <td>12</td>\n",
       "    </tr>\n",
       "    <tr>\n",
       "      <th>...</th>\n",
       "      <td>...</td>\n",
       "      <td>...</td>\n",
       "      <td>...</td>\n",
       "      <td>...</td>\n",
       "    </tr>\n",
       "    <tr>\n",
       "      <th>163</th>\n",
       "      <td>1975-08-01</td>\n",
       "      <td>NaN</td>\n",
       "      <td>886.627333</td>\n",
       "      <td>12</td>\n",
       "    </tr>\n",
       "    <tr>\n",
       "      <th>164</th>\n",
       "      <td>1975-09-01</td>\n",
       "      <td>NaN</td>\n",
       "      <td>837.568504</td>\n",
       "      <td>12</td>\n",
       "    </tr>\n",
       "    <tr>\n",
       "      <th>165</th>\n",
       "      <td>1975-10-01</td>\n",
       "      <td>NaN</td>\n",
       "      <td>821.524059</td>\n",
       "      <td>12</td>\n",
       "    </tr>\n",
       "    <tr>\n",
       "      <th>166</th>\n",
       "      <td>1975-11-01</td>\n",
       "      <td>NaN</td>\n",
       "      <td>796.006680</td>\n",
       "      <td>12</td>\n",
       "    </tr>\n",
       "    <tr>\n",
       "      <th>167</th>\n",
       "      <td>1975-12-01</td>\n",
       "      <td>NaN</td>\n",
       "      <td>818.593277</td>\n",
       "      <td>12</td>\n",
       "    </tr>\n",
       "  </tbody>\n",
       "</table>\n",
       "<p>168 rows × 4 columns</p>\n",
       "</div>"
      ],
      "text/plain": [
       "          Date  Production  Prediction  Number\n",
       "0   1962-01-01       589.0         NaN      12\n",
       "1   1962-02-01       561.0         NaN      12\n",
       "2   1962-03-01       640.0         NaN      12\n",
       "3   1962-04-01       656.0         NaN      12\n",
       "4   1962-05-01       727.0         NaN      12\n",
       "..         ...         ...         ...     ...\n",
       "163 1975-08-01         NaN  886.627333      12\n",
       "164 1975-09-01         NaN  837.568504      12\n",
       "165 1975-10-01         NaN  821.524059      12\n",
       "166 1975-11-01         NaN  796.006680      12\n",
       "167 1975-12-01         NaN  818.593277      12\n",
       "\n",
       "[168 rows x 4 columns]"
      ]
     },
     "execution_count": 68,
     "metadata": {},
     "output_type": "execute_result"
    }
   ],
   "source": [
    "data_final.head(168)"
   ]
  },
  {
   "cell_type": "code",
   "execution_count": 69,
   "id": "8ad4d94e",
   "metadata": {},
   "outputs": [],
   "source": [
    "data_final = data_final.where(pd.notnull(data_final), None)"
   ]
  },
  {
   "cell_type": "code",
   "execution_count": 70,
   "id": "5e7669b1",
   "metadata": {},
   "outputs": [
    {
     "data": {
      "text/html": [
       "<div>\n",
       "<style scoped>\n",
       "    .dataframe tbody tr th:only-of-type {\n",
       "        vertical-align: middle;\n",
       "    }\n",
       "\n",
       "    .dataframe tbody tr th {\n",
       "        vertical-align: top;\n",
       "    }\n",
       "\n",
       "    .dataframe thead th {\n",
       "        text-align: right;\n",
       "    }\n",
       "</style>\n",
       "<table border=\"1\" class=\"dataframe\">\n",
       "  <thead>\n",
       "    <tr style=\"text-align: right;\">\n",
       "      <th></th>\n",
       "      <th>Date</th>\n",
       "      <th>Production</th>\n",
       "      <th>Prediction</th>\n",
       "      <th>Number</th>\n",
       "    </tr>\n",
       "  </thead>\n",
       "  <tbody>\n",
       "    <tr>\n",
       "      <th>0</th>\n",
       "      <td>1962-01-01</td>\n",
       "      <td>589.0</td>\n",
       "      <td>None</td>\n",
       "      <td>12</td>\n",
       "    </tr>\n",
       "    <tr>\n",
       "      <th>1</th>\n",
       "      <td>1962-02-01</td>\n",
       "      <td>561.0</td>\n",
       "      <td>None</td>\n",
       "      <td>12</td>\n",
       "    </tr>\n",
       "    <tr>\n",
       "      <th>2</th>\n",
       "      <td>1962-03-01</td>\n",
       "      <td>640.0</td>\n",
       "      <td>None</td>\n",
       "      <td>12</td>\n",
       "    </tr>\n",
       "    <tr>\n",
       "      <th>3</th>\n",
       "      <td>1962-04-01</td>\n",
       "      <td>656.0</td>\n",
       "      <td>None</td>\n",
       "      <td>12</td>\n",
       "    </tr>\n",
       "    <tr>\n",
       "      <th>4</th>\n",
       "      <td>1962-05-01</td>\n",
       "      <td>727.0</td>\n",
       "      <td>None</td>\n",
       "      <td>12</td>\n",
       "    </tr>\n",
       "    <tr>\n",
       "      <th>...</th>\n",
       "      <td>...</td>\n",
       "      <td>...</td>\n",
       "      <td>...</td>\n",
       "      <td>...</td>\n",
       "    </tr>\n",
       "    <tr>\n",
       "      <th>163</th>\n",
       "      <td>1975-08-01</td>\n",
       "      <td>None</td>\n",
       "      <td>886.627333</td>\n",
       "      <td>12</td>\n",
       "    </tr>\n",
       "    <tr>\n",
       "      <th>164</th>\n",
       "      <td>1975-09-01</td>\n",
       "      <td>None</td>\n",
       "      <td>837.568504</td>\n",
       "      <td>12</td>\n",
       "    </tr>\n",
       "    <tr>\n",
       "      <th>165</th>\n",
       "      <td>1975-10-01</td>\n",
       "      <td>None</td>\n",
       "      <td>821.524059</td>\n",
       "      <td>12</td>\n",
       "    </tr>\n",
       "    <tr>\n",
       "      <th>166</th>\n",
       "      <td>1975-11-01</td>\n",
       "      <td>None</td>\n",
       "      <td>796.00668</td>\n",
       "      <td>12</td>\n",
       "    </tr>\n",
       "    <tr>\n",
       "      <th>167</th>\n",
       "      <td>1975-12-01</td>\n",
       "      <td>None</td>\n",
       "      <td>818.593277</td>\n",
       "      <td>12</td>\n",
       "    </tr>\n",
       "  </tbody>\n",
       "</table>\n",
       "<p>168 rows × 4 columns</p>\n",
       "</div>"
      ],
      "text/plain": [
       "          Date Production  Prediction  Number\n",
       "0   1962-01-01      589.0        None      12\n",
       "1   1962-02-01      561.0        None      12\n",
       "2   1962-03-01      640.0        None      12\n",
       "3   1962-04-01      656.0        None      12\n",
       "4   1962-05-01      727.0        None      12\n",
       "..         ...        ...         ...     ...\n",
       "163 1975-08-01       None  886.627333      12\n",
       "164 1975-09-01       None  837.568504      12\n",
       "165 1975-10-01       None  821.524059      12\n",
       "166 1975-11-01       None   796.00668      12\n",
       "167 1975-12-01       None  818.593277      12\n",
       "\n",
       "[168 rows x 4 columns]"
      ]
     },
     "execution_count": 70,
     "metadata": {},
     "output_type": "execute_result"
    }
   ],
   "source": [
    "data_final"
   ]
  },
  {
   "cell_type": "markdown",
   "id": "b133526c",
   "metadata": {},
   "source": [
    "#### Truncate Data on Database Before Insert New Value Prediction"
   ]
  },
  {
   "cell_type": "code",
   "execution_count": 71,
   "id": "5545adb6",
   "metadata": {},
   "outputs": [
    {
     "data": {
      "text/plain": [
       "0"
      ]
     },
     "execution_count": 71,
     "metadata": {},
     "output_type": "execute_result"
    }
   ],
   "source": [
    "cursor.execute(\"TRUNCATE TABLE tb_prediction_sales\")"
   ]
  },
  {
   "cell_type": "markdown",
   "id": "b8896759",
   "metadata": {},
   "source": [
    "#### Insert New Value Prediction Into Database"
   ]
  },
  {
   "cell_type": "code",
   "execution_count": 72,
   "id": "58006d0b",
   "metadata": {},
   "outputs": [
    {
     "name": "stdout",
     "output_type": "stream",
     "text": [
      "(Timestamp('1962-01-01 00:00:00'), 589.0, None, 12, datetime.datetime(2022, 5, 18, 11, 51, 34, 773482))\n",
      "(Timestamp('1962-02-01 00:00:00'), 561.0, None, 12, datetime.datetime(2022, 5, 18, 11, 51, 34, 818892))\n",
      "(Timestamp('1962-03-01 00:00:00'), 640.0, None, 12, datetime.datetime(2022, 5, 18, 11, 51, 34, 893548))\n",
      "(Timestamp('1962-04-01 00:00:00'), 656.0, None, 12, datetime.datetime(2022, 5, 18, 11, 51, 34, 971092))\n",
      "(Timestamp('1962-05-01 00:00:00'), 727.0, None, 12, datetime.datetime(2022, 5, 18, 11, 51, 34, 992974))\n",
      "(Timestamp('1962-06-01 00:00:00'), 697.0, None, 12, datetime.datetime(2022, 5, 18, 11, 51, 35, 14795))\n",
      "(Timestamp('1962-07-01 00:00:00'), 640.0, None, 12, datetime.datetime(2022, 5, 18, 11, 51, 35, 72148))\n",
      "(Timestamp('1962-08-01 00:00:00'), 599.0, None, 12, datetime.datetime(2022, 5, 18, 11, 51, 35, 125764))\n",
      "(Timestamp('1962-09-01 00:00:00'), 568.0, None, 12, datetime.datetime(2022, 5, 18, 11, 51, 35, 147747))\n",
      "(Timestamp('1962-10-01 00:00:00'), 577.0, None, 12, datetime.datetime(2022, 5, 18, 11, 51, 35, 170355))\n",
      "(Timestamp('1962-11-01 00:00:00'), 553.0, None, 12, datetime.datetime(2022, 5, 18, 11, 51, 35, 192875))\n",
      "(Timestamp('1962-12-01 00:00:00'), 582.0, None, 12, datetime.datetime(2022, 5, 18, 11, 51, 35, 215438))\n",
      "(Timestamp('1963-01-01 00:00:00'), 600.0, None, 12, datetime.datetime(2022, 5, 18, 11, 51, 35, 236487))\n",
      "(Timestamp('1963-02-01 00:00:00'), 566.0, None, 12, datetime.datetime(2022, 5, 18, 11, 51, 35, 259347))\n",
      "(Timestamp('1963-03-01 00:00:00'), 653.0, None, 12, datetime.datetime(2022, 5, 18, 11, 51, 35, 280961))\n",
      "(Timestamp('1963-04-01 00:00:00'), 673.0, None, 12, datetime.datetime(2022, 5, 18, 11, 51, 35, 303595))\n",
      "(Timestamp('1963-05-01 00:00:00'), 742.0, None, 12, datetime.datetime(2022, 5, 18, 11, 51, 35, 326334))\n",
      "(Timestamp('1963-06-01 00:00:00'), 716.0, None, 12, datetime.datetime(2022, 5, 18, 11, 51, 35, 337347))\n",
      "(Timestamp('1963-07-01 00:00:00'), 660.0, None, 12, datetime.datetime(2022, 5, 18, 11, 51, 35, 359430))\n",
      "(Timestamp('1963-08-01 00:00:00'), 617.0, None, 12, datetime.datetime(2022, 5, 18, 11, 51, 35, 370591))\n",
      "(Timestamp('1963-09-01 00:00:00'), 583.0, None, 12, datetime.datetime(2022, 5, 18, 11, 51, 35, 393133))\n",
      "(Timestamp('1963-10-01 00:00:00'), 587.0, None, 12, datetime.datetime(2022, 5, 18, 11, 51, 35, 415819))\n",
      "(Timestamp('1963-11-01 00:00:00'), 565.0, None, 12, datetime.datetime(2022, 5, 18, 11, 51, 35, 436713))\n",
      "(Timestamp('1963-12-01 00:00:00'), 598.0, None, 12, datetime.datetime(2022, 5, 18, 11, 51, 35, 447938))\n",
      "(Timestamp('1964-01-01 00:00:00'), 628.0, None, 12, datetime.datetime(2022, 5, 18, 11, 51, 35, 470187))\n",
      "(Timestamp('1964-02-01 00:00:00'), 618.0, None, 12, datetime.datetime(2022, 5, 18, 11, 51, 35, 492631))\n",
      "(Timestamp('1964-03-01 00:00:00'), 688.0, None, 12, datetime.datetime(2022, 5, 18, 11, 51, 35, 514454))\n",
      "(Timestamp('1964-04-01 00:00:00'), 705.0, None, 12, datetime.datetime(2022, 5, 18, 11, 51, 35, 526693))\n",
      "(Timestamp('1964-05-01 00:00:00'), 770.0, None, 12, datetime.datetime(2022, 5, 18, 11, 51, 35, 547708))\n",
      "(Timestamp('1964-06-01 00:00:00'), 736.0, None, 12, datetime.datetime(2022, 5, 18, 11, 51, 35, 559163))\n",
      "(Timestamp('1964-07-01 00:00:00'), 678.0, None, 12, datetime.datetime(2022, 5, 18, 11, 51, 35, 581155))\n",
      "(Timestamp('1964-08-01 00:00:00'), 639.0, None, 12, datetime.datetime(2022, 5, 18, 11, 51, 35, 592311))\n",
      "(Timestamp('1964-09-01 00:00:00'), 604.0, None, 12, datetime.datetime(2022, 5, 18, 11, 51, 35, 614501))\n",
      "(Timestamp('1964-10-01 00:00:00'), 611.0, None, 12, datetime.datetime(2022, 5, 18, 11, 51, 35, 626015))\n",
      "(Timestamp('1964-11-01 00:00:00'), 594.0, None, 12, datetime.datetime(2022, 5, 18, 11, 51, 35, 647955))\n",
      "(Timestamp('1964-12-01 00:00:00'), 634.0, None, 12, datetime.datetime(2022, 5, 18, 11, 51, 35, 658926))\n",
      "(Timestamp('1965-01-01 00:00:00'), 658.0, None, 12, datetime.datetime(2022, 5, 18, 11, 51, 35, 681237))\n",
      "(Timestamp('1965-02-01 00:00:00'), 622.0, None, 12, datetime.datetime(2022, 5, 18, 11, 51, 35, 701870))\n",
      "(Timestamp('1965-03-01 00:00:00'), 709.0, None, 12, datetime.datetime(2022, 5, 18, 11, 51, 35, 725223))\n",
      "(Timestamp('1965-04-01 00:00:00'), 722.0, None, 12, datetime.datetime(2022, 5, 18, 11, 51, 35, 747731))\n",
      "(Timestamp('1965-05-01 00:00:00'), 782.0, None, 12, datetime.datetime(2022, 5, 18, 11, 51, 35, 770507))\n",
      "(Timestamp('1965-06-01 00:00:00'), 756.0, None, 12, datetime.datetime(2022, 5, 18, 11, 51, 35, 792249))\n",
      "(Timestamp('1965-07-01 00:00:00'), 702.0, None, 12, datetime.datetime(2022, 5, 18, 11, 51, 35, 814347))\n",
      "(Timestamp('1965-08-01 00:00:00'), 653.0, None, 12, datetime.datetime(2022, 5, 18, 11, 51, 35, 836316))\n",
      "(Timestamp('1965-09-01 00:00:00'), 615.0, None, 12, datetime.datetime(2022, 5, 18, 11, 51, 35, 859636))\n",
      "(Timestamp('1965-10-01 00:00:00'), 621.0, None, 12, datetime.datetime(2022, 5, 18, 11, 51, 35, 880621))\n",
      "(Timestamp('1965-11-01 00:00:00'), 602.0, None, 12, datetime.datetime(2022, 5, 18, 11, 51, 35, 904052))\n",
      "(Timestamp('1965-12-01 00:00:00'), 635.0, None, 12, datetime.datetime(2022, 5, 18, 11, 51, 35, 926123))\n",
      "(Timestamp('1966-01-01 00:00:00'), 677.0, None, 12, datetime.datetime(2022, 5, 18, 11, 51, 35, 947727))\n",
      "(Timestamp('1966-02-01 00:00:00'), 635.0, None, 12, datetime.datetime(2022, 5, 18, 11, 51, 35, 969731))\n",
      "(Timestamp('1966-03-01 00:00:00'), 736.0, None, 12, datetime.datetime(2022, 5, 18, 11, 51, 35, 992565))\n",
      "(Timestamp('1966-04-01 00:00:00'), 755.0, None, 12, datetime.datetime(2022, 5, 18, 11, 51, 36, 14382))\n",
      "(Timestamp('1966-05-01 00:00:00'), 811.0, None, 12, datetime.datetime(2022, 5, 18, 11, 51, 36, 132018))\n",
      "(Timestamp('1966-06-01 00:00:00'), 798.0, None, 12, datetime.datetime(2022, 5, 18, 11, 51, 36, 170215))\n",
      "(Timestamp('1966-07-01 00:00:00'), 735.0, None, 12, datetime.datetime(2022, 5, 18, 11, 51, 36, 192678))\n",
      "(Timestamp('1966-08-01 00:00:00'), 697.0, None, 12, datetime.datetime(2022, 5, 18, 11, 51, 36, 214892))\n",
      "(Timestamp('1966-09-01 00:00:00'), 661.0, None, 12, datetime.datetime(2022, 5, 18, 11, 51, 36, 236830))\n",
      "(Timestamp('1966-10-01 00:00:00'), 667.0, None, 12, datetime.datetime(2022, 5, 18, 11, 51, 36, 259631))\n",
      "(Timestamp('1966-11-01 00:00:00'), 645.0, None, 12, datetime.datetime(2022, 5, 18, 11, 51, 36, 280464))\n",
      "(Timestamp('1966-12-01 00:00:00'), 688.0, None, 12, datetime.datetime(2022, 5, 18, 11, 51, 36, 303113))\n",
      "(Timestamp('1967-01-01 00:00:00'), 713.0, None, 12, datetime.datetime(2022, 5, 18, 11, 51, 36, 325764))\n",
      "(Timestamp('1967-02-01 00:00:00'), 667.0, None, 12, datetime.datetime(2022, 5, 18, 11, 51, 36, 347741))\n",
      "(Timestamp('1967-03-01 00:00:00'), 762.0, None, 12, datetime.datetime(2022, 5, 18, 11, 51, 36, 370190))\n",
      "(Timestamp('1967-04-01 00:00:00'), 784.0, None, 12, datetime.datetime(2022, 5, 18, 11, 51, 36, 392461))\n",
      "(Timestamp('1967-05-01 00:00:00'), 837.0, None, 12, datetime.datetime(2022, 5, 18, 11, 51, 36, 413722))\n",
      "(Timestamp('1967-06-01 00:00:00'), 817.0, None, 12, datetime.datetime(2022, 5, 18, 11, 51, 36, 436778))\n",
      "(Timestamp('1967-07-01 00:00:00'), 767.0, None, 12, datetime.datetime(2022, 5, 18, 11, 51, 36, 458931))\n",
      "(Timestamp('1967-08-01 00:00:00'), 722.0, None, 12, datetime.datetime(2022, 5, 18, 11, 51, 36, 481414))\n",
      "(Timestamp('1967-09-01 00:00:00'), 681.0, None, 12, datetime.datetime(2022, 5, 18, 11, 51, 36, 502777))\n",
      "(Timestamp('1967-10-01 00:00:00'), 687.0, None, 12, datetime.datetime(2022, 5, 18, 11, 51, 36, 526052))\n",
      "(Timestamp('1967-11-01 00:00:00'), 660.0, None, 12, datetime.datetime(2022, 5, 18, 11, 51, 36, 546886))\n",
      "(Timestamp('1967-12-01 00:00:00'), 698.0, None, 12, datetime.datetime(2022, 5, 18, 11, 51, 36, 569791))\n",
      "(Timestamp('1968-01-01 00:00:00'), 717.0, None, 12, datetime.datetime(2022, 5, 18, 11, 51, 36, 592046))\n",
      "(Timestamp('1968-02-01 00:00:00'), 696.0, None, 12, datetime.datetime(2022, 5, 18, 11, 51, 36, 614538))\n",
      "(Timestamp('1968-03-01 00:00:00'), 775.0, None, 12, datetime.datetime(2022, 5, 18, 11, 51, 36, 636482))\n",
      "(Timestamp('1968-04-01 00:00:00'), 796.0, None, 12, datetime.datetime(2022, 5, 18, 11, 51, 36, 658986))\n",
      "(Timestamp('1968-05-01 00:00:00'), 858.0, None, 12, datetime.datetime(2022, 5, 18, 11, 51, 36, 680763))\n",
      "(Timestamp('1968-06-01 00:00:00'), 826.0, None, 12, datetime.datetime(2022, 5, 18, 11, 51, 36, 703360))\n",
      "(Timestamp('1968-07-01 00:00:00'), 783.0, None, 12, datetime.datetime(2022, 5, 18, 11, 51, 36, 726435))\n"
     ]
    },
    {
     "name": "stdout",
     "output_type": "stream",
     "text": [
      "(Timestamp('1968-08-01 00:00:00'), 740.0, None, 12, datetime.datetime(2022, 5, 18, 11, 51, 36, 748064))\n",
      "(Timestamp('1968-09-01 00:00:00'), 701.0, None, 12, datetime.datetime(2022, 5, 18, 11, 51, 36, 769717))\n",
      "(Timestamp('1968-10-01 00:00:00'), 706.0, None, 12, datetime.datetime(2022, 5, 18, 11, 51, 36, 792794))\n",
      "(Timestamp('1968-11-01 00:00:00'), 677.0, None, 12, datetime.datetime(2022, 5, 18, 11, 51, 36, 814453))\n",
      "(Timestamp('1968-12-01 00:00:00'), 711.0, None, 12, datetime.datetime(2022, 5, 18, 11, 51, 36, 837072))\n",
      "(Timestamp('1969-01-01 00:00:00'), 734.0, None, 12, datetime.datetime(2022, 5, 18, 11, 51, 36, 858621))\n",
      "(Timestamp('1969-02-01 00:00:00'), 690.0, None, 12, datetime.datetime(2022, 5, 18, 11, 51, 36, 881926))\n",
      "(Timestamp('1969-03-01 00:00:00'), 785.0, None, 12, datetime.datetime(2022, 5, 18, 11, 51, 36, 903670))\n",
      "(Timestamp('1969-04-01 00:00:00'), 805.0, None, 12, datetime.datetime(2022, 5, 18, 11, 51, 36, 925965))\n",
      "(Timestamp('1969-05-01 00:00:00'), 871.0, None, 12, datetime.datetime(2022, 5, 18, 11, 51, 36, 947137))\n",
      "(Timestamp('1969-06-01 00:00:00'), 845.0, None, 12, datetime.datetime(2022, 5, 18, 11, 51, 36, 970363))\n",
      "(Timestamp('1969-07-01 00:00:00'), 801.0, None, 12, datetime.datetime(2022, 5, 18, 11, 51, 36, 993011))\n",
      "(Timestamp('1969-08-01 00:00:00'), 764.0, None, 12, datetime.datetime(2022, 5, 18, 11, 51, 37, 14975))\n",
      "(Timestamp('1969-09-01 00:00:00'), 725.0, None, 12, datetime.datetime(2022, 5, 18, 11, 51, 37, 96125))\n",
      "(Timestamp('1969-10-01 00:00:00'), 723.0, None, 12, datetime.datetime(2022, 5, 18, 11, 51, 37, 192574))\n",
      "(Timestamp('1969-11-01 00:00:00'), 690.0, None, 12, datetime.datetime(2022, 5, 18, 11, 51, 37, 226264))\n",
      "(Timestamp('1969-12-01 00:00:00'), 734.0, None, 12, datetime.datetime(2022, 5, 18, 11, 51, 37, 248621))\n",
      "(Timestamp('1970-01-01 00:00:00'), 750.0, None, 12, datetime.datetime(2022, 5, 18, 11, 51, 37, 270181))\n",
      "(Timestamp('1970-02-01 00:00:00'), 707.0, None, 12, datetime.datetime(2022, 5, 18, 11, 51, 37, 293084))\n",
      "(Timestamp('1970-03-01 00:00:00'), 807.0, None, 12, datetime.datetime(2022, 5, 18, 11, 51, 37, 314347))\n",
      "(Timestamp('1970-04-01 00:00:00'), 824.0, None, 12, datetime.datetime(2022, 5, 18, 11, 51, 37, 336947))\n",
      "(Timestamp('1970-05-01 00:00:00'), 886.0, None, 12, datetime.datetime(2022, 5, 18, 11, 51, 37, 359440))\n",
      "(Timestamp('1970-06-01 00:00:00'), 859.0, None, 12, datetime.datetime(2022, 5, 18, 11, 51, 37, 381682))\n",
      "(Timestamp('1970-07-01 00:00:00'), 819.0, None, 12, datetime.datetime(2022, 5, 18, 11, 51, 37, 403485))\n",
      "(Timestamp('1970-08-01 00:00:00'), 783.0, None, 12, datetime.datetime(2022, 5, 18, 11, 51, 37, 426457))\n",
      "(Timestamp('1970-09-01 00:00:00'), 740.0, None, 12, datetime.datetime(2022, 5, 18, 11, 51, 37, 447138))\n",
      "(Timestamp('1970-10-01 00:00:00'), 747.0, None, 12, datetime.datetime(2022, 5, 18, 11, 51, 37, 470391))\n",
      "(Timestamp('1970-11-01 00:00:00'), 711.0, None, 12, datetime.datetime(2022, 5, 18, 11, 51, 37, 492258))\n",
      "(Timestamp('1970-12-01 00:00:00'), 751.0, None, 12, datetime.datetime(2022, 5, 18, 11, 51, 37, 515074))\n",
      "(Timestamp('1971-01-01 00:00:00'), 804.0, None, 12, datetime.datetime(2022, 5, 18, 11, 51, 37, 536771))\n",
      "(Timestamp('1971-02-01 00:00:00'), 756.0, None, 12, datetime.datetime(2022, 5, 18, 11, 51, 37, 559322))\n",
      "(Timestamp('1971-03-01 00:00:00'), 860.0, None, 12, datetime.datetime(2022, 5, 18, 11, 51, 37, 581442))\n",
      "(Timestamp('1971-04-01 00:00:00'), 878.0, None, 12, datetime.datetime(2022, 5, 18, 11, 51, 37, 604027))\n",
      "(Timestamp('1971-05-01 00:00:00'), 942.0, None, 12, datetime.datetime(2022, 5, 18, 11, 51, 37, 625410))\n",
      "(Timestamp('1971-06-01 00:00:00'), 913.0, None, 12, datetime.datetime(2022, 5, 18, 11, 51, 37, 637334))\n",
      "(Timestamp('1971-07-01 00:00:00'), 869.0, None, 12, datetime.datetime(2022, 5, 18, 11, 51, 37, 658870))\n",
      "(Timestamp('1971-08-01 00:00:00'), 834.0, None, 12, datetime.datetime(2022, 5, 18, 11, 51, 37, 681830))\n",
      "(Timestamp('1971-09-01 00:00:00'), 790.0, None, 12, datetime.datetime(2022, 5, 18, 11, 51, 37, 703109))\n",
      "(Timestamp('1971-10-01 00:00:00'), 800.0, None, 12, datetime.datetime(2022, 5, 18, 11, 51, 37, 715262))\n",
      "(Timestamp('1971-11-01 00:00:00'), 763.0, None, 12, datetime.datetime(2022, 5, 18, 11, 51, 37, 736767))\n",
      "(Timestamp('1971-12-01 00:00:00'), 800.0, None, 12, datetime.datetime(2022, 5, 18, 11, 51, 37, 748298))\n",
      "(Timestamp('1972-01-01 00:00:00'), 826.0, None, 12, datetime.datetime(2022, 5, 18, 11, 51, 37, 770012))\n",
      "(Timestamp('1972-02-01 00:00:00'), 799.0, None, 12, datetime.datetime(2022, 5, 18, 11, 51, 37, 781567))\n",
      "(Timestamp('1972-03-01 00:00:00'), 890.0, None, 12, datetime.datetime(2022, 5, 18, 11, 51, 37, 802072))\n",
      "(Timestamp('1972-04-01 00:00:00'), 900.0, None, 12, datetime.datetime(2022, 5, 18, 11, 51, 37, 825101))\n",
      "(Timestamp('1972-05-01 00:00:00'), 961.0, None, 12, datetime.datetime(2022, 5, 18, 11, 51, 37, 847770))\n",
      "(Timestamp('1972-06-01 00:00:00'), 935.0, None, 12, datetime.datetime(2022, 5, 18, 11, 51, 37, 869516))\n",
      "(Timestamp('1972-07-01 00:00:00'), 894.0, None, 12, datetime.datetime(2022, 5, 18, 11, 51, 37, 892753))\n",
      "(Timestamp('1972-08-01 00:00:00'), 855.0, None, 12, datetime.datetime(2022, 5, 18, 11, 51, 37, 913730))\n",
      "(Timestamp('1972-09-01 00:00:00'), 809.0, None, 12, datetime.datetime(2022, 5, 18, 11, 51, 37, 936510))\n",
      "(Timestamp('1972-10-01 00:00:00'), 810.0, None, 12, datetime.datetime(2022, 5, 18, 11, 51, 38, 5139))\n",
      "(Timestamp('1972-11-01 00:00:00'), 766.0, None, 12, datetime.datetime(2022, 5, 18, 11, 51, 38, 64687))\n",
      "(Timestamp('1972-12-01 00:00:00'), 805.0, None, 12, datetime.datetime(2022, 5, 18, 11, 51, 38, 136376))\n",
      "(Timestamp('1973-01-01 00:00:00'), 821.0, None, 12, datetime.datetime(2022, 5, 18, 11, 51, 38, 169822))\n",
      "(Timestamp('1973-02-01 00:00:00'), 773.0, None, 12, datetime.datetime(2022, 5, 18, 11, 51, 38, 213508))\n",
      "(Timestamp('1973-03-01 00:00:00'), 883.0, None, 12, datetime.datetime(2022, 5, 18, 11, 51, 38, 260517))\n",
      "(Timestamp('1973-04-01 00:00:00'), 898.0, None, 12, datetime.datetime(2022, 5, 18, 11, 51, 38, 292460))\n",
      "(Timestamp('1973-05-01 00:00:00'), 957.0, None, 12, datetime.datetime(2022, 5, 18, 11, 51, 38, 315354))\n",
      "(Timestamp('1973-06-01 00:00:00'), 924.0, None, 12, datetime.datetime(2022, 5, 18, 11, 51, 38, 336767))\n",
      "(Timestamp('1973-07-01 00:00:00'), 881.0, None, 12, datetime.datetime(2022, 5, 18, 11, 51, 38, 360016))\n",
      "(Timestamp('1973-08-01 00:00:00'), 837.0, None, 12, datetime.datetime(2022, 5, 18, 11, 51, 38, 381471))\n",
      "(Timestamp('1973-09-01 00:00:00'), 784.0, None, 12, datetime.datetime(2022, 5, 18, 11, 51, 38, 403511))\n",
      "(Timestamp('1973-10-01 00:00:00'), 791.0, None, 12, datetime.datetime(2022, 5, 18, 11, 51, 38, 425835))\n",
      "(Timestamp('1973-11-01 00:00:00'), 760.0, None, 12, datetime.datetime(2022, 5, 18, 11, 51, 38, 447587))\n",
      "(Timestamp('1973-12-01 00:00:00'), 802.0, None, 12, datetime.datetime(2022, 5, 18, 11, 51, 38, 469628))\n",
      "(Timestamp('1974-01-01 00:00:00'), 828.0, None, 12, datetime.datetime(2022, 5, 18, 11, 51, 38, 493063))\n",
      "(Timestamp('1974-02-01 00:00:00'), 778.0, None, 12, datetime.datetime(2022, 5, 18, 11, 51, 38, 514408))\n",
      "(Timestamp('1974-03-01 00:00:00'), 889.0, None, 12, datetime.datetime(2022, 5, 18, 11, 51, 38, 536717))\n",
      "(Timestamp('1974-04-01 00:00:00'), 902.0, None, 12, datetime.datetime(2022, 5, 18, 11, 51, 38, 559372))\n",
      "(Timestamp('1974-05-01 00:00:00'), 969.0, None, 12, datetime.datetime(2022, 5, 18, 11, 51, 38, 581711))\n",
      "(Timestamp('1974-06-01 00:00:00'), 947.0, None, 12, datetime.datetime(2022, 5, 18, 11, 51, 38, 603296))\n",
      "(Timestamp('1974-07-01 00:00:00'), 908.0, None, 12, datetime.datetime(2022, 5, 18, 11, 51, 38, 625878))\n",
      "(Timestamp('1974-08-01 00:00:00'), 867.0, None, 12, datetime.datetime(2022, 5, 18, 11, 51, 38, 647630))\n",
      "(Timestamp('1974-09-01 00:00:00'), 815.0, None, 12, datetime.datetime(2022, 5, 18, 11, 51, 38, 670051))\n",
      "(Timestamp('1974-10-01 00:00:00'), 812.0, None, 12, datetime.datetime(2022, 5, 18, 11, 51, 38, 714489))\n",
      "(Timestamp('1974-11-01 00:00:00'), 773.0, None, 12, datetime.datetime(2022, 5, 18, 11, 51, 38, 759587))\n",
      "(Timestamp('1974-12-01 00:00:00'), 813.0, None, 12, datetime.datetime(2022, 5, 18, 11, 51, 38, 814824))\n",
      "(Timestamp('1975-01-01 00:00:00'), None, 834.5468711853028, 12, datetime.datetime(2022, 5, 18, 11, 51, 38, 837020))\n",
      "(Timestamp('1975-02-01 00:00:00'), None, 815.1688404083252, 12, datetime.datetime(2022, 5, 18, 11, 51, 38, 859754))\n",
      "(Timestamp('1975-03-01 00:00:00'), None, 902.3534526824952, 12, datetime.datetime(2022, 5, 18, 11, 51, 38, 882048))\n",
      "(Timestamp('1975-04-01 00:00:00'), None, 924.714138031006, 12, datetime.datetime(2022, 5, 18, 11, 51, 38, 903612))\n"
     ]
    },
    {
     "name": "stdout",
     "output_type": "stream",
     "text": [
      "(Timestamp('1975-05-01 00:00:00'), None, 982.7823486328126, 12, datetime.datetime(2022, 5, 18, 11, 51, 38, 926352))\n",
      "(Timestamp('1975-06-01 00:00:00'), None, 967.408920288086, 12, datetime.datetime(2022, 5, 18, 11, 51, 38, 947898))\n",
      "(Timestamp('1975-07-01 00:00:00'), None, 934.3083972930909, 12, datetime.datetime(2022, 5, 18, 11, 51, 38, 969928))\n",
      "(Timestamp('1975-08-01 00:00:00'), None, 886.627332687378, 12, datetime.datetime(2022, 5, 18, 11, 51, 38, 992868))\n",
      "(Timestamp('1975-09-01 00:00:00'), None, 837.5685043334962, 12, datetime.datetime(2022, 5, 18, 11, 51, 39, 15305))\n",
      "(Timestamp('1975-10-01 00:00:00'), None, 821.5240592956543, 12, datetime.datetime(2022, 5, 18, 11, 51, 39, 81586))\n",
      "(Timestamp('1975-11-01 00:00:00'), None, 796.0066795349121, 12, datetime.datetime(2022, 5, 18, 11, 51, 39, 147916))\n",
      "(Timestamp('1975-12-01 00:00:00'), None, 818.5932769775391, 12, datetime.datetime(2022, 5, 18, 11, 51, 39, 169719))\n"
     ]
    }
   ],
   "source": [
    "for index, row in data_final.iterrows():\n",
    "    created_at = row['Date']\n",
    "    production = row['Production']\n",
    "    prediction = row['Prediction']\n",
    "    number = row['Number']\n",
    "    updated_at = datetime.datetime.now()\n",
    "    \n",
    "    sql = \"INSERT INTO tb_prediction_sales (created_at, production, prediction, number, updated_at) VALUES (%s, %s, %s, %s, %s)\"\n",
    "    val = (created_at, production, prediction, number, updated_at)\n",
    "    print(val)\n",
    "    \n",
    "    cursor.execute(sql, val)\n",
    "    db.commit()"
   ]
  },
  {
   "cell_type": "code",
   "execution_count": null,
   "id": "b46a4fb6",
   "metadata": {},
   "outputs": [],
   "source": []
  }
 ],
 "metadata": {
  "kernelspec": {
   "display_name": "Python 3",
   "language": "python",
   "name": "python3"
  },
  "language_info": {
   "codemirror_mode": {
    "name": "ipython",
    "version": 3
   },
   "file_extension": ".py",
   "mimetype": "text/x-python",
   "name": "python",
   "nbconvert_exporter": "python",
   "pygments_lexer": "ipython3",
   "version": "3.9.6"
  }
 },
 "nbformat": 4,
 "nbformat_minor": 5
}
